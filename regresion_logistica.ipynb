{
 "cells": [
  {
   "cell_type": "markdown",
<<<<<<< HEAD
=======
   "source": [
    "## Regresiíon Logistica"
   ],
>>>>>>> 6cbfe2b561c8c1c6684398822a29b2e29cb5ca79
   "metadata": {
    "collapsed": false,
    "pycharm": {
     "name": "#%% md\n"
    }
   },
   "source": [
    "# Regresión Logistica\n",
    "\n",
    "#### ¿Que es?\n",
    "La regresión logística es una técnica de análisis de datos utilizada para encontrar las relaciones entre dos factores de datos. Una vez hallada esta relación, se utiliza para predecir el valor de uno de esos factores basándose en el otro. Habitualmente, la predicción tiene un número finito de resultados, como un sí o un no.\n",
    "\n",
    "#### Ejemplo:\n",
    "Supongamos que buscamos adivinar si el potencial visitante de su sitio web va a hacer clic en el botón de pago de su carrito de compras o no. El análisis de regresión logística analiza el comportamiento de los visitantes previos, obteniendo datos tales como el tiempo que permanecen en el sitio web y la cantidad de artículos que tienen en su carrito. Se determina que, si anteriormente los visitantes pasaban más de cinco minutos en el sitio y agregaban más de tres artículos al carrito, hacían clic en el botón de pago. Con esta información, la función de regresión logística puede predecir el comportamiento de un nuevo visitante en el sitio web.\n",
    "\n",
    "#### Importancia de la regresión logística\n",
    "La regresión logística es una técnica importante en el campo de la inteligencia artificial y el machine learning (AI/ML). Los modelos de ML son programas de software que puede entrenar para realizar tareas complejas de procesamiento de datos sin intervención humana. Los modelos de ML creados mediante regresión logística ayudan a las organizaciones a obtener información procesable a partir de sus datos empresariales. Pueden usar esta información para el análisis predictivo a fin de reducir los costos operativos, aumentar la eficiencia y escalar más rápido. Por ejemplo, las empresas pueden descubrir patrones que mejoran la retención de los empleados o conducen a un diseño de productos más rentable.\n",
    "\n",
    "A continuación, enumeramos algunos beneficios del uso de la regresión logística en comparación con otras técnicas de ML.\n",
    "\n",
    "- **Simplicidad:**\n",
    "Son matemáticamente mas sencillos que otros métodos de ML. Por lo tanto, puede implementarlos incluso si nadie en su equipo tiene una gran experiencia en ML.\n",
    "\n",
    "- **Velocidad:**\n",
    "Pueden procesar grandes volúmenes de datos a alta velocidad porque requieren menos capacidad computacional. Esto los hace ideales para que las organizaciones que están comenzando con proyectos de ML obtengan resultados rápidos.\n",
    "\n",
    "- **Flexibilidad:**\n",
    "Se puede utilizar ara encontrar respuestas a preguntas que tienen dos o más resultados finitos. Además se puede usar para preprocesar datos. Por ejemplo, se pueden ordenar los datos con un amplio rango de valores, como las transacciones bancarias, en un rango de valores más pequeño y finito mediante esta regresión. A continuación, puede procesar este conjunto de datos más pequeño a través el uso de otras técnicas de ML para obtener un análisis más preciso y completo.\n",
    "\n",
    "- **Visibilidad:**\n",
    "La solución de problemas y la corrección de errores también son más fáciles porque los cálculos son menos complejos ofreciendo a los desarrolladores una mayor visibilidad de los procesos de software internos.\n",
    "\n",
    "#### Aplicaciones\n",
    "\n",
    "- **Fabricación:**\n",
    "Las empresas de fabricación utilizan este análisis para estimar la probabilidad de fallo de las piezas en la maquinaria. Luego, planifican los programas de mantenimiento en función de esta estimación para minimizar los fallos futuros.\n",
    "\n",
    "- **Sanidad:**\n",
    "Los investigadores médicos planifican la atención y el tratamiento preventivos mediante la predicción de la probabilidad de enfermedad en los pacientes. Utilizan modelos de regresión logística para comparar el impacto de los antecedentes familiares o los genes en las enfermedades. \n",
    "\n",
    "- **Finanzas:**\n",
    "Las empresas financieras tienen que analizar las transacciones financieras en busca de fraudes y evaluar las solicitudes de préstamos y seguros en busca de riesgos. Estos problemas son adecuados para un modelo de regresión logística porque tienen resultados discretos, como alto riesgo o bajo riesgo y fraudulento o no fraudulento.\n",
    "\n",
    "- **Marketing:**\n",
    "Las herramientas de publicidad en línea utilizan el modelo de regresión logística para predecir si los usuarios harán clic en un anuncio. Como resultado, los especialistas en marketing pueden analizar las respuestas de los usuarios a diferentes palabras e imágenes y crear anuncios de alto rendimiento con los que los clientes interactuarán.\n",
    "\n",
    "#### Funcionamiento del análisis de regresión\n",
    "Esta regresión es una de las diferentes técnicas de análisis de regresión que los científicos de datos utilizan habitualmente en machine learning (ML).\n",
    "Para entender la regresión logística, primero debemos entender el análisis de regresión básica. A continuación, mostraremos un ejemplo de análisis de regresión lineal para demostrarlo.\n",
    "\n",
    "- **Identificar la pregunta:**\n",
    "Cualquier análisis de datos comienza con una pregunta empresarial. Para la regresión logística, hay que formular la pregunta para obtener resultados concretos:\n",
    "\n",
    "¿Los días de lluvia afectan nuestras ventas mensuales? (sí o no)\n",
    "¿Qué tipo de actividad de tarjeta de crédito realiza el cliente? (autorizado, fraudulento o potencialmente fraudulento) \n",
    "\n",
    "1. **Recopilar datos históricos:**\n",
    "Una vez identificada la pregunta, se identifican los factores de los datos que intervienen. Luego, recopilará datos anteriores para todos los factores. Por ejemplo, para responder a la primera pregunta que se muestra arriba, puede recopilar el número de días de lluvia y los datos de ventas mensuales de cada mes en los últimos tres años.\n",
    "\n",
    "2. **Entrenar el modelo de análisis de regresión:**\n",
    "Se procesan los datos históricos mediante un software de regresión. El software procesará los diferentes puntos de datos y los conectará matemáticamente mediante ecuaciones. Por ejemplo, si el número de días lluviosos durante tres meses es 3, 5 y 8 y el número de ventas en esos meses es 8, 12 y 18, el algoritmo de regresión conectará los factores con la ecuación:\n",
    "\n",
    "Número de ventas = 2* (número de días lluviosos) + 2\n",
    "\n",
    "4. **Realizar predicciones para valores desconocidos:**\n",
    "Para valores desconocidos, el software utiliza la ecuación para hacer una predicción. Si sabe que lloverá durante seis días en julio, el software calculará el valor de venta de julio en 14.\n",
    "\n",
    "#### Funcionamiento del modelo de regresión\n",
    "Para entender el modelo de regresión logística, primero vamos a entender las ecuaciones y las variables.\n",
    "\n",
    "**Ecuaciones:**\n",
    "En matemáticas, las ecuaciones dan la relación entre dos variables: x e y. Puede usar estas ecuaciones, o funciones, para trazar un gráfico a lo largo de los ejes x e y poniendo diferentes valores de x e y. Por ejemplo, si traza el gráfico para la función y = 2*x, obtendrá una línea recta como se muestra a continuación. Por lo tanto, esta función también se denomina función lineal.\n",
    "\n",
    "![alt text](gráfico1.png)\n",
    "\n",
    "- **Variables:**\n",
    "En estadística, las variables son los factores o atributos de datos cuyos valores varían. Para cualquier análisis, ciertas variables son independientes o explicativas. Estos atributos son la causa de un resultado. Otras variables son variables dependientes o de respuesta; sus valores dependen de las variables independientes. En general, la regresión logística explora cómo las variables independientes afectan a una variable dependiente al observar los valores de datos históricos de ambas variables. \n",
    "\n",
    "En nuestro ejemplo anterior,x se denomina variable independiente, variable predictora o variable explicativa porque tiene un valor conocido. Y se denomina variable dependiente, variable de resultado o variable de respuesta porque se desconoce su valor. \n",
    "\n",
    "- **Función de regresión logística:**\n",
    "La regresión logística es un modelo estadístico que utiliza la función logística, o función logit, en matemáticas como la ecuación entre x ey. La función logit mapea y como una función sigmoidea de x.\n",
    "\n",
    "![alt text](fórmula1.png)\n",
    "\n",
    "Si representa esta ecuación de regresión logística, obtendrá una curva en S como la que se muestra a continuación.\n",
    "\n",
    "![alt text](gráfico2.png)\n",
    "\n",
    "Como puede ver, la función logit devuelve solo valores entre 0 y 1 para la variable dependiente, al margen de los valores de la variable independiente. Así es como la regresión logística estima el valor de la variable dependiente. Los métodos de regresión logística también modelan ecuaciones entre múltiples variables independientes y una variable dependiente.\n",
    "\n",
    "- **Análisis de regresión logística con múltiples variables independientes:**\n",
    "En muchos casos, múltiples variables explicativas afectan al valor de la variable dependiente. Para modelar dichos conjuntos de datos de entrada, las fórmulas de regresión logística asumen una relación lineal entre las diferentes variables independientes. Puede modificar la función sigmoidea y calcular la variable de salida final como\n",
    "\n",
    "y = f(β0 + β1x1 + β2x2+… βnxn)\n",
    "\n",
    "El símbolo β representa el coeficiente de regresión. El modelo logit puede calcular de forma inversa estos valores de coeficientes cuando se le proporciona un conjunto de datos experimentales suficientemente grande con valores conocidos de variables dependientes e independientes. \n",
    "\n",
    "- **Registrar probabilidades:**\n",
    "El modelo logit también puede determinar la relación entre el éxito y el fracaso o registrar las probabilidades. Por ejemplo, si estaba jugando al póker con sus amigos y ganó cuatro partidos de 10, sus probabilidades de ganar son cuatro sextos, o cuatro de seis, que es la relación entre su éxito y su fracaso. La probabilidad de ganar, por otro lado, es de cuatro sobre 10.\n",
    "\n",
    "Matemáticamente, sus probabilidades en términos de probabilidad son p/(1 - p), y sus registros de probabilidades son (p/[1 - p]). Se puede representar la función logística como registro de probabilidades como se muestra a continuación:\n",
    "\n",
    "![alt text](fórmula2.png)\n",
    "\n",
    "#### Típos de análisis de regresión logística\n",
    "Hay tres enfoques para el análisis de regresión logística basados en los resultados de la variable dependiente.\n",
    "\n",
    "- **Regresión logística binaria:**\n",
    "La regresión logística binaria funciona bien para problemas de clasificación binaria que solo tienen dos resultados posibles. La variable dependiente solo puede tener dos valores, como sí y no o 0 y 1.\n",
    "\n",
    "Aunque la función logística calcula un rango de valores entre 0 y 1, el modelo de regresión binaria redondea la respuesta a los valores más cercanos. Por lo general, las respuestas por debajo de 0,5 se redondean a 0 y las respuestas por encima de 0,5 se redondean a 1, de modo que la función logística devuelve un resultado binario.\n",
    "\n",
    "- **Regresión logística multinomial:**\n",
    "La regresión multinomial puede analizar problemas que tienen varios resultados posibles, siempre y cuando el número de resultados sea finito. Por ejemplo, puede predecir si los precios de la vivienda aumentarán un 25 %, 50 %, 75 % o 100 % en función de los datos de población, pero no puede predecir el valor exacto de una casa.\n",
    "\n",
    "La regresión logística multinomial funciona mapeando los valores de resultado con diferentes valores entre 0 y 1. Como la función logística puede devolver un rango de datos continuos, como 0,1, 0,11, 0,12, etc., la regresión multinomial también agrupa el resultado a los valores más cercanos posibles.\n",
    "\n",
    "- **Regresión logística ordinal**\n",
    "La regresión logística ordinal, o el modelo logit ordenado, es un tipo especial de regresión multinomial para problemas en los que los números representan rangos en lugar de valores reales. Por ejemplo, puede utilizar la regresión ordinal para predecir la respuesta a una pregunta de una encuesta en la que se pide a los clientes que clasifiquen su servicio como malo, regular, bueno o excelente en función de un valor numérico, como el número de artículos que le han comprado a lo largo del año.\n",
    "\n",
    "#### Comparación de regresión logística con otras técnicas\n",
    "Las dos técnicas comunes de análisis de datos son el análisis de regresión lineal y el aprendizaje profundo.\n",
    "\n",
    "- **Análisis de regresión lineal:**\n",
    "Como se explicó anteriormente, la regresión lineal modela la relación entre variables dependientes e independientes mediante el uso de una combinación lineal. La ecuación de regresión lineal es\n",
    "\n",
    "y= β0X0 + β1X1 + β2X2+… βnXn+ ε, donde β1 a βn y ε son coeficientes de regresión.\n",
    "\n",
    "- **Regresión logística vs. regresión lineal:**\n",
    "La regresión lineal predice una variable dependiente continua mediante el uso de un conjunto dado de variables independientes. Una variable continua puede tener un rango de valores, como el precio o la antigüedad. Por lo tanto, la regresión lineal puede predecir los valores reales de la variable dependiente. Puede responder a preguntas como “¿Cuál será el precio del arroz después de 10 años?”\n",
    "\n",
    "A diferencia de la regresión lineal, la regresión logística es un algoritmo de clasificación. No puede predecir los valores reales de los datos continuos. Puede responder a preguntas como “¿Aumentará el precio del arroz un 50 % en 10 años?”\n",
    "\n",
    "- **Aprendizaje profundo**\n",
    "El aprendizaje profundo utiliza redes neuronales o componentes de software que simulan el cerebro humano para analizar la información. Los cálculos de aprendizaje profundo se basan en el concepto matemático de vectores.\n",
    "\n",
    "- **Regresión logística frente a aprendizaje profundo**\n",
    "La regresión logística es menos compleja y requiere menos recursos informáticos que el aprendizaje profundo. Y lo que es más importante, los desarrolladores no pueden investigar ni modificar los cálculos de aprendizaje profundo, debido a su naturaleza compleja y dirigida por la máquina. Por otro lado, los cálculos de regresión logística son transparentes y más fáciles de solucionar."
   ]
  },
  {
   "cell_type": "code",
   "execution_count": 1,
<<<<<<< HEAD
   "metadata": {
    "collapsed": false,
    "pycharm": {
     "is_executing": true,
     "name": "#%%\n"
    }
   },
=======
>>>>>>> 6cbfe2b561c8c1c6684398822a29b2e29cb5ca79
   "outputs": [],
   "source": [
    "import pandas as pd\n",
    "import matplotlib.pyplot as plt\n",
    "from sklearn import datasets\n",
    "from sklearn.linear_model import LogisticRegression\n",
    "from sklearn.model_selection import train_test_split\n",
    "import seaborn as sn"
<<<<<<< HEAD
   ]
=======
   ],
   "metadata": {
    "collapsed": false,
    "pycharm": {
     "name": "#%%\n"
    }
   }
>>>>>>> 6cbfe2b561c8c1c6684398822a29b2e29cb5ca79
  },
  {
   "cell_type": "markdown",
   "metadata": {
    "collapsed": false,
    "pycharm": {
     "name": "#%% md\n"
    }
   },
   "source": [
    "Cargamos el dataset y lo convertimos en un DataFrame. Vamos a utilizar un dataset conocido, el de las flores de iris.\n"
   ]
  },
  {
   "cell_type": "code",
<<<<<<< HEAD
   "execution_count": 3,
   "metadata": {
    "collapsed": false,
    "pycharm": {
     "is_executing": true,
     "name": "#%%\n"
    }
   },
   "outputs": [
    {
     "data": {
      "text/html": [
       "<div>\n",
       "<style scoped>\n",
       "    .dataframe tbody tr th:only-of-type {\n",
       "        vertical-align: middle;\n",
       "    }\n",
       "\n",
       "    .dataframe tbody tr th {\n",
       "        vertical-align: top;\n",
       "    }\n",
       "\n",
       "    .dataframe thead th {\n",
       "        text-align: right;\n",
       "    }\n",
       "</style>\n",
       "<table border=\"1\" class=\"dataframe\">\n",
       "  <thead>\n",
       "    <tr style=\"text-align: right;\">\n",
       "      <th></th>\n",
       "      <th>sepal length (cm)</th>\n",
       "      <th>sepal width (cm)</th>\n",
       "      <th>petal length (cm)</th>\n",
       "      <th>petal width (cm)</th>\n",
       "      <th>target</th>\n",
       "    </tr>\n",
       "  </thead>\n",
       "  <tbody>\n",
       "    <tr>\n",
       "      <th>0</th>\n",
       "      <td>5.1</td>\n",
       "      <td>3.5</td>\n",
       "      <td>1.4</td>\n",
       "      <td>0.2</td>\n",
       "      <td>0</td>\n",
       "    </tr>\n",
       "    <tr>\n",
       "      <th>1</th>\n",
       "      <td>4.9</td>\n",
       "      <td>3.0</td>\n",
       "      <td>1.4</td>\n",
       "      <td>0.2</td>\n",
       "      <td>0</td>\n",
       "    </tr>\n",
       "    <tr>\n",
       "      <th>2</th>\n",
       "      <td>4.7</td>\n",
       "      <td>3.2</td>\n",
       "      <td>1.3</td>\n",
       "      <td>0.2</td>\n",
       "      <td>0</td>\n",
       "    </tr>\n",
       "    <tr>\n",
       "      <th>3</th>\n",
       "      <td>4.6</td>\n",
       "      <td>3.1</td>\n",
       "      <td>1.5</td>\n",
       "      <td>0.2</td>\n",
       "      <td>0</td>\n",
       "    </tr>\n",
       "    <tr>\n",
       "      <th>4</th>\n",
       "      <td>5.0</td>\n",
       "      <td>3.6</td>\n",
       "      <td>1.4</td>\n",
       "      <td>0.2</td>\n",
       "      <td>0</td>\n",
       "    </tr>\n",
       "    <tr>\n",
       "      <th>...</th>\n",
       "      <td>...</td>\n",
       "      <td>...</td>\n",
       "      <td>...</td>\n",
       "      <td>...</td>\n",
       "      <td>...</td>\n",
       "    </tr>\n",
       "    <tr>\n",
       "      <th>95</th>\n",
       "      <td>5.7</td>\n",
       "      <td>3.0</td>\n",
       "      <td>4.2</td>\n",
       "      <td>1.2</td>\n",
       "      <td>1</td>\n",
       "    </tr>\n",
       "    <tr>\n",
       "      <th>96</th>\n",
       "      <td>5.7</td>\n",
       "      <td>2.9</td>\n",
       "      <td>4.2</td>\n",
       "      <td>1.3</td>\n",
       "      <td>1</td>\n",
       "    </tr>\n",
       "    <tr>\n",
       "      <th>97</th>\n",
       "      <td>6.2</td>\n",
       "      <td>2.9</td>\n",
       "      <td>4.3</td>\n",
       "      <td>1.3</td>\n",
       "      <td>1</td>\n",
       "    </tr>\n",
       "    <tr>\n",
       "      <th>98</th>\n",
       "      <td>5.1</td>\n",
       "      <td>2.5</td>\n",
       "      <td>3.0</td>\n",
       "      <td>1.1</td>\n",
       "      <td>1</td>\n",
       "    </tr>\n",
       "    <tr>\n",
       "      <th>99</th>\n",
       "      <td>5.7</td>\n",
       "      <td>2.8</td>\n",
       "      <td>4.1</td>\n",
       "      <td>1.3</td>\n",
       "      <td>1</td>\n",
       "    </tr>\n",
       "  </tbody>\n",
       "</table>\n",
       "<p>100 rows × 5 columns</p>\n",
       "</div>"
      ],
      "text/plain": [
       "    sepal length (cm)  sepal width (cm)  petal length (cm)  petal width (cm)  \\\n",
       "0                 5.1               3.5                1.4               0.2   \n",
       "1                 4.9               3.0                1.4               0.2   \n",
       "2                 4.7               3.2                1.3               0.2   \n",
       "3                 4.6               3.1                1.5               0.2   \n",
       "4                 5.0               3.6                1.4               0.2   \n",
       "..                ...               ...                ...               ...   \n",
       "95                5.7               3.0                4.2               1.2   \n",
       "96                5.7               2.9                4.2               1.3   \n",
       "97                6.2               2.9                4.3               1.3   \n",
       "98                5.1               2.5                3.0               1.1   \n",
       "99                5.7               2.8                4.1               1.3   \n",
       "\n",
       "    target  \n",
       "0        0  \n",
       "1        0  \n",
       "2        0  \n",
       "3        0  \n",
       "4        0  \n",
       "..     ...  \n",
       "95       1  \n",
       "96       1  \n",
       "97       1  \n",
       "98       1  \n",
       "99       1  \n",
       "\n",
       "[100 rows x 5 columns]"
      ]
     },
     "execution_count": 3,
=======
   "execution_count": 2,
   "outputs": [
    {
     "data": {
      "text/plain": "    sepal length (cm)  sepal width (cm)  petal length (cm)  petal width (cm)  \\\n0                 5.1               3.5                1.4               0.2   \n1                 4.9               3.0                1.4               0.2   \n2                 4.7               3.2                1.3               0.2   \n3                 4.6               3.1                1.5               0.2   \n4                 5.0               3.6                1.4               0.2   \n..                ...               ...                ...               ...   \n95                5.7               3.0                4.2               1.2   \n96                5.7               2.9                4.2               1.3   \n97                6.2               2.9                4.3               1.3   \n98                5.1               2.5                3.0               1.1   \n99                5.7               2.8                4.1               1.3   \n\n    target  \n0        0  \n1        0  \n2        0  \n3        0  \n4        0  \n..     ...  \n95       1  \n96       1  \n97       1  \n98       1  \n99       1  \n\n[100 rows x 5 columns]",
      "text/html": "<div>\n<style scoped>\n    .dataframe tbody tr th:only-of-type {\n        vertical-align: middle;\n    }\n\n    .dataframe tbody tr th {\n        vertical-align: top;\n    }\n\n    .dataframe thead th {\n        text-align: right;\n    }\n</style>\n<table border=\"1\" class=\"dataframe\">\n  <thead>\n    <tr style=\"text-align: right;\">\n      <th></th>\n      <th>sepal length (cm)</th>\n      <th>sepal width (cm)</th>\n      <th>petal length (cm)</th>\n      <th>petal width (cm)</th>\n      <th>target</th>\n    </tr>\n  </thead>\n  <tbody>\n    <tr>\n      <th>0</th>\n      <td>5.1</td>\n      <td>3.5</td>\n      <td>1.4</td>\n      <td>0.2</td>\n      <td>0</td>\n    </tr>\n    <tr>\n      <th>1</th>\n      <td>4.9</td>\n      <td>3.0</td>\n      <td>1.4</td>\n      <td>0.2</td>\n      <td>0</td>\n    </tr>\n    <tr>\n      <th>2</th>\n      <td>4.7</td>\n      <td>3.2</td>\n      <td>1.3</td>\n      <td>0.2</td>\n      <td>0</td>\n    </tr>\n    <tr>\n      <th>3</th>\n      <td>4.6</td>\n      <td>3.1</td>\n      <td>1.5</td>\n      <td>0.2</td>\n      <td>0</td>\n    </tr>\n    <tr>\n      <th>4</th>\n      <td>5.0</td>\n      <td>3.6</td>\n      <td>1.4</td>\n      <td>0.2</td>\n      <td>0</td>\n    </tr>\n    <tr>\n      <th>...</th>\n      <td>...</td>\n      <td>...</td>\n      <td>...</td>\n      <td>...</td>\n      <td>...</td>\n    </tr>\n    <tr>\n      <th>95</th>\n      <td>5.7</td>\n      <td>3.0</td>\n      <td>4.2</td>\n      <td>1.2</td>\n      <td>1</td>\n    </tr>\n    <tr>\n      <th>96</th>\n      <td>5.7</td>\n      <td>2.9</td>\n      <td>4.2</td>\n      <td>1.3</td>\n      <td>1</td>\n    </tr>\n    <tr>\n      <th>97</th>\n      <td>6.2</td>\n      <td>2.9</td>\n      <td>4.3</td>\n      <td>1.3</td>\n      <td>1</td>\n    </tr>\n    <tr>\n      <th>98</th>\n      <td>5.1</td>\n      <td>2.5</td>\n      <td>3.0</td>\n      <td>1.1</td>\n      <td>1</td>\n    </tr>\n    <tr>\n      <th>99</th>\n      <td>5.7</td>\n      <td>2.8</td>\n      <td>4.1</td>\n      <td>1.3</td>\n      <td>1</td>\n    </tr>\n  </tbody>\n</table>\n<p>100 rows × 5 columns</p>\n</div>"
     },
     "execution_count": 2,
>>>>>>> 6cbfe2b561c8c1c6684398822a29b2e29cb5ca79
     "metadata": {},
     "output_type": "execute_result"
    }
   ],
   "source": [
    "iris = datasets.load_iris()\n",
    "df_iris = pd.DataFrame(iris['data'],columns = iris['feature_names'])\n",
    "df_iris['target'] = iris['target']\n",
    "\n",
    "# Solo selecioné dos clases, 0 y 1.\n",
    "df_iris = df_iris[df_iris.target != 2]\n",
    "\n",
    "df_iris"
<<<<<<< HEAD
   ]
=======
   ],
   "metadata": {
    "collapsed": false,
    "pycharm": {
     "name": "#%%\n"
    }
   }
>>>>>>> 6cbfe2b561c8c1c6684398822a29b2e29cb5ca79
  },
  {
   "cell_type": "markdown",
   "metadata": {
    "collapsed": false,
    "pycharm": {
     "name": "#%% md\n"
    }
   },
   "source": [
    "Creamos el modelo"
   ]
  },
  {
   "cell_type": "code",
<<<<<<< HEAD
   "execution_count": 4,
   "metadata": {
    "collapsed": false,
    "pycharm": {
     "is_executing": true,
     "name": "#%%\n"
    }
   },
   "outputs": [],
   "source": [
    "iris_model = LogisticRegression(max_iter=1000)"
   ]
=======
   "execution_count": 3,
   "outputs": [],
   "source": [
    "iris_model = LogisticRegression(max_iter=1000)"
   ],
   "metadata": {
    "collapsed": false,
    "pycharm": {
     "name": "#%%\n"
    }
   }
>>>>>>> 6cbfe2b561c8c1c6684398822a29b2e29cb5ca79
  },
  {
   "cell_type": "markdown",
   "metadata": {
    "collapsed": false,
    "pycharm": {
     "name": "#%% md\n"
    }
   },
   "source": [
    "Construimos nuestro X e Y"
   ]
  },
  {
   "cell_type": "code",
<<<<<<< HEAD
   "execution_count": 5,
   "metadata": {
    "collapsed": false,
    "pycharm": {
     "is_executing": true,
     "name": "#%%\n"
    }
   },
   "outputs": [
    {
     "data": {
      "text/html": [
       "<div>\n",
       "<style scoped>\n",
       "    .dataframe tbody tr th:only-of-type {\n",
       "        vertical-align: middle;\n",
       "    }\n",
       "\n",
       "    .dataframe tbody tr th {\n",
       "        vertical-align: top;\n",
       "    }\n",
       "\n",
       "    .dataframe thead th {\n",
       "        text-align: right;\n",
       "    }\n",
       "</style>\n",
       "<table border=\"1\" class=\"dataframe\">\n",
       "  <thead>\n",
       "    <tr style=\"text-align: right;\">\n",
       "      <th></th>\n",
       "      <th>sepal length (cm)</th>\n",
       "      <th>sepal width (cm)</th>\n",
       "    </tr>\n",
       "  </thead>\n",
       "  <tbody>\n",
       "    <tr>\n",
       "      <th>0</th>\n",
       "      <td>5.1</td>\n",
       "      <td>3.5</td>\n",
       "    </tr>\n",
       "    <tr>\n",
       "      <th>1</th>\n",
       "      <td>4.9</td>\n",
       "      <td>3.0</td>\n",
       "    </tr>\n",
       "    <tr>\n",
       "      <th>2</th>\n",
       "      <td>4.7</td>\n",
       "      <td>3.2</td>\n",
       "    </tr>\n",
       "    <tr>\n",
       "      <th>3</th>\n",
       "      <td>4.6</td>\n",
       "      <td>3.1</td>\n",
       "    </tr>\n",
       "    <tr>\n",
       "      <th>4</th>\n",
       "      <td>5.0</td>\n",
       "      <td>3.6</td>\n",
       "    </tr>\n",
       "    <tr>\n",
       "      <th>...</th>\n",
       "      <td>...</td>\n",
       "      <td>...</td>\n",
       "    </tr>\n",
       "    <tr>\n",
       "      <th>95</th>\n",
       "      <td>5.7</td>\n",
       "      <td>3.0</td>\n",
       "    </tr>\n",
       "    <tr>\n",
       "      <th>96</th>\n",
       "      <td>5.7</td>\n",
       "      <td>2.9</td>\n",
       "    </tr>\n",
       "    <tr>\n",
       "      <th>97</th>\n",
       "      <td>6.2</td>\n",
       "      <td>2.9</td>\n",
       "    </tr>\n",
       "    <tr>\n",
       "      <th>98</th>\n",
       "      <td>5.1</td>\n",
       "      <td>2.5</td>\n",
       "    </tr>\n",
       "    <tr>\n",
       "      <th>99</th>\n",
       "      <td>5.7</td>\n",
       "      <td>2.8</td>\n",
       "    </tr>\n",
       "  </tbody>\n",
       "</table>\n",
       "<p>100 rows × 2 columns</p>\n",
       "</div>"
      ],
      "text/plain": [
       "    sepal length (cm)  sepal width (cm)\n",
       "0                 5.1               3.5\n",
       "1                 4.9               3.0\n",
       "2                 4.7               3.2\n",
       "3                 4.6               3.1\n",
       "4                 5.0               3.6\n",
       "..                ...               ...\n",
       "95                5.7               3.0\n",
       "96                5.7               2.9\n",
       "97                6.2               2.9\n",
       "98                5.1               2.5\n",
       "99                5.7               2.8\n",
       "\n",
       "[100 rows x 2 columns]"
      ]
     },
     "execution_count": 5,
=======
   "execution_count": 4,
   "outputs": [
    {
     "data": {
      "text/plain": "    sepal length (cm)  sepal width (cm)\n0                 5.1               3.5\n1                 4.9               3.0\n2                 4.7               3.2\n3                 4.6               3.1\n4                 5.0               3.6\n..                ...               ...\n95                5.7               3.0\n96                5.7               2.9\n97                6.2               2.9\n98                5.1               2.5\n99                5.7               2.8\n\n[100 rows x 2 columns]",
      "text/html": "<div>\n<style scoped>\n    .dataframe tbody tr th:only-of-type {\n        vertical-align: middle;\n    }\n\n    .dataframe tbody tr th {\n        vertical-align: top;\n    }\n\n    .dataframe thead th {\n        text-align: right;\n    }\n</style>\n<table border=\"1\" class=\"dataframe\">\n  <thead>\n    <tr style=\"text-align: right;\">\n      <th></th>\n      <th>sepal length (cm)</th>\n      <th>sepal width (cm)</th>\n    </tr>\n  </thead>\n  <tbody>\n    <tr>\n      <th>0</th>\n      <td>5.1</td>\n      <td>3.5</td>\n    </tr>\n    <tr>\n      <th>1</th>\n      <td>4.9</td>\n      <td>3.0</td>\n    </tr>\n    <tr>\n      <th>2</th>\n      <td>4.7</td>\n      <td>3.2</td>\n    </tr>\n    <tr>\n      <th>3</th>\n      <td>4.6</td>\n      <td>3.1</td>\n    </tr>\n    <tr>\n      <th>4</th>\n      <td>5.0</td>\n      <td>3.6</td>\n    </tr>\n    <tr>\n      <th>...</th>\n      <td>...</td>\n      <td>...</td>\n    </tr>\n    <tr>\n      <th>95</th>\n      <td>5.7</td>\n      <td>3.0</td>\n    </tr>\n    <tr>\n      <th>96</th>\n      <td>5.7</td>\n      <td>2.9</td>\n    </tr>\n    <tr>\n      <th>97</th>\n      <td>6.2</td>\n      <td>2.9</td>\n    </tr>\n    <tr>\n      <th>98</th>\n      <td>5.1</td>\n      <td>2.5</td>\n    </tr>\n    <tr>\n      <th>99</th>\n      <td>5.7</td>\n      <td>2.8</td>\n    </tr>\n  </tbody>\n</table>\n<p>100 rows × 2 columns</p>\n</div>"
     },
     "execution_count": 4,
>>>>>>> 6cbfe2b561c8c1c6684398822a29b2e29cb5ca79
     "metadata": {},
     "output_type": "execute_result"
    }
   ],
   "source": [
    "X = df_iris.iloc[:,[0,1]]\n",
    "y = df_iris['target']\n",
    "\n",
    "X"
<<<<<<< HEAD
   ]
=======
   ],
   "metadata": {
    "collapsed": false,
    "pycharm": {
     "name": "#%%\n"
    }
   }
>>>>>>> 6cbfe2b561c8c1c6684398822a29b2e29cb5ca79
  },
  {
   "cell_type": "markdown",
   "metadata": {
    "collapsed": false,
    "pycharm": {
     "name": "#%% md\n"
    }
   },
   "source": [
    "Al igual que con la regresión lineal, vamos a separar el dataset para el entrenamiento"
   ]
  },
  {
   "cell_type": "code",
<<<<<<< HEAD
   "execution_count": 6,
   "metadata": {
    "collapsed": false,
    "pycharm": {
     "is_executing": true,
     "name": "#%%\n"
    }
   },
   "outputs": [],
   "source": [
    "X_train, X_test, y_train, y_test = train_test_split(X, y, test_size = 0.30)"
   ]
  },
  {
   "cell_type": "code",
   "execution_count": 7,
   "metadata": {
    "collapsed": false,
    "pycharm": {
     "is_executing": true,
     "name": "#%%\n"
    }
   },
   "outputs": [
    {
     "data": {
      "text/html": [
       "<style>#sk-container-id-1 {color: black;background-color: white;}#sk-container-id-1 pre{padding: 0;}#sk-container-id-1 div.sk-toggleable {background-color: white;}#sk-container-id-1 label.sk-toggleable__label {cursor: pointer;display: block;width: 100%;margin-bottom: 0;padding: 0.3em;box-sizing: border-box;text-align: center;}#sk-container-id-1 label.sk-toggleable__label-arrow:before {content: \"▸\";float: left;margin-right: 0.25em;color: #696969;}#sk-container-id-1 label.sk-toggleable__label-arrow:hover:before {color: black;}#sk-container-id-1 div.sk-estimator:hover label.sk-toggleable__label-arrow:before {color: black;}#sk-container-id-1 div.sk-toggleable__content {max-height: 0;max-width: 0;overflow: hidden;text-align: left;background-color: #f0f8ff;}#sk-container-id-1 div.sk-toggleable__content pre {margin: 0.2em;color: black;border-radius: 0.25em;background-color: #f0f8ff;}#sk-container-id-1 input.sk-toggleable__control:checked~div.sk-toggleable__content {max-height: 200px;max-width: 100%;overflow: auto;}#sk-container-id-1 input.sk-toggleable__control:checked~label.sk-toggleable__label-arrow:before {content: \"▾\";}#sk-container-id-1 div.sk-estimator input.sk-toggleable__control:checked~label.sk-toggleable__label {background-color: #d4ebff;}#sk-container-id-1 div.sk-label input.sk-toggleable__control:checked~label.sk-toggleable__label {background-color: #d4ebff;}#sk-container-id-1 input.sk-hidden--visually {border: 0;clip: rect(1px 1px 1px 1px);clip: rect(1px, 1px, 1px, 1px);height: 1px;margin: -1px;overflow: hidden;padding: 0;position: absolute;width: 1px;}#sk-container-id-1 div.sk-estimator {font-family: monospace;background-color: #f0f8ff;border: 1px dotted black;border-radius: 0.25em;box-sizing: border-box;margin-bottom: 0.5em;}#sk-container-id-1 div.sk-estimator:hover {background-color: #d4ebff;}#sk-container-id-1 div.sk-parallel-item::after {content: \"\";width: 100%;border-bottom: 1px solid gray;flex-grow: 1;}#sk-container-id-1 div.sk-label:hover label.sk-toggleable__label {background-color: #d4ebff;}#sk-container-id-1 div.sk-serial::before {content: \"\";position: absolute;border-left: 1px solid gray;box-sizing: border-box;top: 0;bottom: 0;left: 50%;z-index: 0;}#sk-container-id-1 div.sk-serial {display: flex;flex-direction: column;align-items: center;background-color: white;padding-right: 0.2em;padding-left: 0.2em;position: relative;}#sk-container-id-1 div.sk-item {position: relative;z-index: 1;}#sk-container-id-1 div.sk-parallel {display: flex;align-items: stretch;justify-content: center;background-color: white;position: relative;}#sk-container-id-1 div.sk-item::before, #sk-container-id-1 div.sk-parallel-item::before {content: \"\";position: absolute;border-left: 1px solid gray;box-sizing: border-box;top: 0;bottom: 0;left: 50%;z-index: -1;}#sk-container-id-1 div.sk-parallel-item {display: flex;flex-direction: column;z-index: 1;position: relative;background-color: white;}#sk-container-id-1 div.sk-parallel-item:first-child::after {align-self: flex-end;width: 50%;}#sk-container-id-1 div.sk-parallel-item:last-child::after {align-self: flex-start;width: 50%;}#sk-container-id-1 div.sk-parallel-item:only-child::after {width: 0;}#sk-container-id-1 div.sk-dashed-wrapped {border: 1px dashed gray;margin: 0 0.4em 0.5em 0.4em;box-sizing: border-box;padding-bottom: 0.4em;background-color: white;}#sk-container-id-1 div.sk-label label {font-family: monospace;font-weight: bold;display: inline-block;line-height: 1.2em;}#sk-container-id-1 div.sk-label-container {text-align: center;}#sk-container-id-1 div.sk-container {/* jupyter's `normalize.less` sets `[hidden] { display: none; }` but bootstrap.min.css set `[hidden] { display: none !important; }` so we also need the `!important` here to be able to override the default hidden behavior on the sphinx rendered scikit-learn.org. See: https://github.com/scikit-learn/scikit-learn/issues/21755 */display: inline-block !important;position: relative;}#sk-container-id-1 div.sk-text-repr-fallback {display: none;}</style><div id=\"sk-container-id-1\" class=\"sk-top-container\"><div class=\"sk-text-repr-fallback\"><pre>LogisticRegression(max_iter=1000)</pre><b>In a Jupyter environment, please rerun this cell to show the HTML representation or trust the notebook. <br />On GitHub, the HTML representation is unable to render, please try loading this page with nbviewer.org.</b></div><div class=\"sk-container\" hidden><div class=\"sk-item\"><div class=\"sk-estimator sk-toggleable\"><input class=\"sk-toggleable__control sk-hidden--visually\" id=\"sk-estimator-id-1\" type=\"checkbox\" checked><label for=\"sk-estimator-id-1\" class=\"sk-toggleable__label sk-toggleable__label-arrow\">LogisticRegression</label><div class=\"sk-toggleable__content\"><pre>LogisticRegression(max_iter=1000)</pre></div></div></div></div></div>"
      ],
      "text/plain": [
       "LogisticRegression(max_iter=1000)"
      ]
     },
     "execution_count": 7,
=======
   "execution_count": 5,
   "outputs": [],
   "source": [
    "X_train, X_test, y_train, y_test = train_test_split(X, y, test_size = 0.30)"
   ],
   "metadata": {
    "collapsed": false,
    "pycharm": {
     "name": "#%%\n"
    }
   }
  },
  {
   "cell_type": "code",
   "execution_count": 6,
   "outputs": [
    {
     "data": {
      "text/plain": "LogisticRegression(max_iter=1000)",
      "text/html": "<style>#sk-container-id-1 {color: black;background-color: white;}#sk-container-id-1 pre{padding: 0;}#sk-container-id-1 div.sk-toggleable {background-color: white;}#sk-container-id-1 label.sk-toggleable__label {cursor: pointer;display: block;width: 100%;margin-bottom: 0;padding: 0.3em;box-sizing: border-box;text-align: center;}#sk-container-id-1 label.sk-toggleable__label-arrow:before {content: \"▸\";float: left;margin-right: 0.25em;color: #696969;}#sk-container-id-1 label.sk-toggleable__label-arrow:hover:before {color: black;}#sk-container-id-1 div.sk-estimator:hover label.sk-toggleable__label-arrow:before {color: black;}#sk-container-id-1 div.sk-toggleable__content {max-height: 0;max-width: 0;overflow: hidden;text-align: left;background-color: #f0f8ff;}#sk-container-id-1 div.sk-toggleable__content pre {margin: 0.2em;color: black;border-radius: 0.25em;background-color: #f0f8ff;}#sk-container-id-1 input.sk-toggleable__control:checked~div.sk-toggleable__content {max-height: 200px;max-width: 100%;overflow: auto;}#sk-container-id-1 input.sk-toggleable__control:checked~label.sk-toggleable__label-arrow:before {content: \"▾\";}#sk-container-id-1 div.sk-estimator input.sk-toggleable__control:checked~label.sk-toggleable__label {background-color: #d4ebff;}#sk-container-id-1 div.sk-label input.sk-toggleable__control:checked~label.sk-toggleable__label {background-color: #d4ebff;}#sk-container-id-1 input.sk-hidden--visually {border: 0;clip: rect(1px 1px 1px 1px);clip: rect(1px, 1px, 1px, 1px);height: 1px;margin: -1px;overflow: hidden;padding: 0;position: absolute;width: 1px;}#sk-container-id-1 div.sk-estimator {font-family: monospace;background-color: #f0f8ff;border: 1px dotted black;border-radius: 0.25em;box-sizing: border-box;margin-bottom: 0.5em;}#sk-container-id-1 div.sk-estimator:hover {background-color: #d4ebff;}#sk-container-id-1 div.sk-parallel-item::after {content: \"\";width: 100%;border-bottom: 1px solid gray;flex-grow: 1;}#sk-container-id-1 div.sk-label:hover label.sk-toggleable__label {background-color: #d4ebff;}#sk-container-id-1 div.sk-serial::before {content: \"\";position: absolute;border-left: 1px solid gray;box-sizing: border-box;top: 0;bottom: 0;left: 50%;z-index: 0;}#sk-container-id-1 div.sk-serial {display: flex;flex-direction: column;align-items: center;background-color: white;padding-right: 0.2em;padding-left: 0.2em;position: relative;}#sk-container-id-1 div.sk-item {position: relative;z-index: 1;}#sk-container-id-1 div.sk-parallel {display: flex;align-items: stretch;justify-content: center;background-color: white;position: relative;}#sk-container-id-1 div.sk-item::before, #sk-container-id-1 div.sk-parallel-item::before {content: \"\";position: absolute;border-left: 1px solid gray;box-sizing: border-box;top: 0;bottom: 0;left: 50%;z-index: -1;}#sk-container-id-1 div.sk-parallel-item {display: flex;flex-direction: column;z-index: 1;position: relative;background-color: white;}#sk-container-id-1 div.sk-parallel-item:first-child::after {align-self: flex-end;width: 50%;}#sk-container-id-1 div.sk-parallel-item:last-child::after {align-self: flex-start;width: 50%;}#sk-container-id-1 div.sk-parallel-item:only-child::after {width: 0;}#sk-container-id-1 div.sk-dashed-wrapped {border: 1px dashed gray;margin: 0 0.4em 0.5em 0.4em;box-sizing: border-box;padding-bottom: 0.4em;background-color: white;}#sk-container-id-1 div.sk-label label {font-family: monospace;font-weight: bold;display: inline-block;line-height: 1.2em;}#sk-container-id-1 div.sk-label-container {text-align: center;}#sk-container-id-1 div.sk-container {/* jupyter's `normalize.less` sets `[hidden] { display: none; }` but bootstrap.min.css set `[hidden] { display: none !important; }` so we also need the `!important` here to be able to override the default hidden behavior on the sphinx rendered scikit-learn.org. See: https://github.com/scikit-learn/scikit-learn/issues/21755 */display: inline-block !important;position: relative;}#sk-container-id-1 div.sk-text-repr-fallback {display: none;}</style><div id=\"sk-container-id-1\" class=\"sk-top-container\"><div class=\"sk-text-repr-fallback\"><pre>LogisticRegression(max_iter=1000)</pre><b>In a Jupyter environment, please rerun this cell to show the HTML representation or trust the notebook. <br />On GitHub, the HTML representation is unable to render, please try loading this page with nbviewer.org.</b></div><div class=\"sk-container\" hidden><div class=\"sk-item\"><div class=\"sk-estimator sk-toggleable\"><input class=\"sk-toggleable__control sk-hidden--visually\" id=\"sk-estimator-id-1\" type=\"checkbox\" checked><label for=\"sk-estimator-id-1\" class=\"sk-toggleable__label sk-toggleable__label-arrow\">LogisticRegression</label><div class=\"sk-toggleable__content\"><pre>LogisticRegression(max_iter=1000)</pre></div></div></div></div></div>"
     },
     "execution_count": 6,
>>>>>>> 6cbfe2b561c8c1c6684398822a29b2e29cb5ca79
     "metadata": {},
     "output_type": "execute_result"
    }
   ],
   "source": [
    "iris_model.fit(X_train, y_train)"
<<<<<<< HEAD
   ]
  },
  {
   "cell_type": "code",
   "execution_count": 8,
   "metadata": {
    "collapsed": false,
    "pycharm": {
     "is_executing": true,
     "name": "#%%\n"
    }
   },
   "outputs": [
    {
     "data": {
      "text/plain": [
       "(array([-6.72114268]), array([[ 2.74591875, -2.64017124]]))"
      ]
     },
     "execution_count": 8,
=======
   ],
   "metadata": {
    "collapsed": false,
    "pycharm": {
     "name": "#%%\n"
    }
   }
  },
  {
   "cell_type": "code",
   "execution_count": 7,
   "outputs": [
    {
     "data": {
      "text/plain": "(array([-6.28967787]), array([[ 2.691177  , -2.66195151]]))"
     },
     "execution_count": 7,
>>>>>>> 6cbfe2b561c8c1c6684398822a29b2e29cb5ca79
     "metadata": {},
     "output_type": "execute_result"
    }
   ],
   "source": [
    "iris_model.intercept_, iris_model.coef_"
<<<<<<< HEAD
   ]
  },
  {
   "cell_type": "code",
   "execution_count": 9,
   "metadata": {
    "collapsed": false,
    "pycharm": {
     "is_executing": true,
     "name": "#%%\n"
    }
   },
   "outputs": [],
   "source": [
    "weights = [iris_model.intercept_[0],iris_model.coef_[0,0],iris_model.coef_[0,1]]"
   ]
=======
   ],
   "metadata": {
    "collapsed": false,
    "pycharm": {
     "name": "#%%\n"
    }
   }
  },
  {
   "cell_type": "code",
   "execution_count": 8,
   "outputs": [],
   "source": [
    "weights = [iris_model.intercept_[0],iris_model.coef_[0,0],iris_model.coef_[0,1]]"
   ],
   "metadata": {
    "collapsed": false,
    "pycharm": {
     "name": "#%%\n"
    }
   }
>>>>>>> 6cbfe2b561c8c1c6684398822a29b2e29cb5ca79
  },
  {
   "cell_type": "markdown",
   "metadata": {
    "collapsed": false,
    "pycharm": {
     "name": "#%% md\n"
    }
   },
   "source": [
    "Trazado del límite de decisión"
   ]
  },
  {
   "cell_type": "code",
<<<<<<< HEAD
   "execution_count": 10,
   "metadata": {
    "collapsed": false,
    "pycharm": {
     "is_executing": true,
     "name": "#%%\n"
    }
   },
   "outputs": [
    {
     "data": {
      "text/plain": [
       "<matplotlib.lines._AxLine at 0x1cb1788bd90>"
      ]
     },
     "execution_count": 10,
=======
   "execution_count": 9,
   "outputs": [
    {
     "data": {
      "text/plain": "<matplotlib.lines._AxLine at 0x13b6c3280>"
     },
     "execution_count": 9,
>>>>>>> 6cbfe2b561c8c1c6684398822a29b2e29cb5ca79
     "metadata": {},
     "output_type": "execute_result"
    },
    {
     "data": {
<<<<<<< HEAD
      "image/png": "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",
      "text/plain": [
       "<Figure size 432x288 with 1 Axes>"
      ]
     },
     "metadata": {
      "needs_background": "light"
     },
=======
      "text/plain": "<Figure size 640x480 with 1 Axes>",
      "image/png": "iVBORw0KGgoAAAANSUhEUgAAAjQAAAGzCAYAAAA41o3+AAAAOXRFWHRTb2Z0d2FyZQBNYXRwbG90bGliIHZlcnNpb24zLjYuMiwgaHR0cHM6Ly9tYXRwbG90bGliLm9yZy8o6BhiAAAACXBIWXMAAA9hAAAPYQGoP6dpAACgVUlEQVR4nOzdZ5QU1daA4beqOk0O5KiAIkGyIpKDZAOSBEkqGRTD9TOiomLOCoIoGVSiCpIRRMVENJEkKDkMTA493VX1/eCCd5w803FmP2u57qVOd/XuM9XVu6vOOVsxTdNECCGEECKIqf4OQAghhBCiuCShEUIIIUTQk4RGCCGEEEFPEhohhBBCBD1JaIQQQggR9CShEUIIIUTQk4RGCCGEEEFPEhohhBBCBD1JaIQQQggR9Cz+DuCSUaNGERsby8svv5xj+6233sr+/fuzbFu5ciW1a9f2RXhCCCGECGABkdCsWrWKLVu2cPvtt+fYrus6f/31FwsWLODKK6+8vD0mJsZHEQohhBAikPk9oUlISODVV1+lQYMGuT7m+PHjuFwuGjZsiN1u92F0QgghhAgGfk9oXnnlFW677TbOnj2b62MOHjxIpUqVPJLMnD+fTEksx6koUKZMRIl9f74kfelZ0p+eI33pWcHen9+f2Mr4r0aR6EygWkR1Puw6h9ox1/glFm/25aV958evg4J/+OEHtm/fzrhx4/J83KFDh7BarYwePZpWrVoxePBgfv31Vx9FKYQQQgSW+Xvm0mfFLRxPPkad2LosvXWF35KZQOG3KzROp5NnnnmGp59+GofDkedjjxw5QmJiIv369WPChAksXryYYcOGsXr1aipVqlSo1y1IlhfMSvr78yXpS8+S/vQc6UvPCqb+1A2dxzY+xus/vA7AwGsHMuu2WTgseX+P+oo/+9JvCc2UKVO49tpradOmTb6Pff7558nIyCA8PByASZMmsXPnTr744gvGjBlTqNcN1kuL+Qn2S6eBRPrSs6Q/PUf60rOCrT9TXamM3TCCNUdWAfDI9Y/z8PWPkZLgIgWXX2MLhFtOfktoVq1aRVxcHE2aNAEgMzMTgHXr1rFr164sj7VYLJeTGQBFUahZsyZnzpwp9OuaJkFx4BZVSX9/viR96VnSn54jfelZwdCfp1JOMnj1HfwW9wt2zc47Hd+n99X9gMCK3Z996beEZv78+bjd7sv/fv31i5fPHn744WyPHTJkCDfccAP33nsvAIZhsH//fgYNGuTRmEzTxO32b5ZbVIoCGRkZuFyZOR5MFosVRVF8H5gQQohi+fXcbgavvoPTqacoG1KWOd0+oXmlG/wdVsDxW0JTpUqVLP8OCwsD4IorrkDXdS5cuEBUVBQ2m42OHTsydepU6tatS40aNZg3bx7Jycm5rltTFG63i/PnT2Oahsf26WsXLqgYRs7xK4pKmTIVsVisPo5KCCFEUa0+/CXjNo4gzZ3GNTF1WNBzMVdEXunvsAKS36dt5+TUqVN06tSJefPmccMNN3DXXXfhdDqZPHkycXFxNGrUiNmzZ2e5DVUcpmmSmHgBVVWJiiqHogRnRQhNU9D17JdnTNMgIeE8iYkXiI0tL1dqhBAiwJmmydTd7/L8D09jYtK+Wkc+6jKXSHuUv0MLWIppBtLdN++Li8s+YEnX3Zw7d4KoqLKEhIT5JzAPsFhU3O6cr9Ckp6eSmBhHuXJV0LSAzGMDhqJA2bIROR4rovCkPz1H+tKzArU/M/VMHv3mIRbunQfA3deO4IXWr2JRA/fc7c2+vLTv/ARu7/jQpds0JfmL/tJ7MwwDTfNzMEIIIXKUkBHPPeuG8N2Jb1AVledbvcSIBmPkynoBlNxv8CIoyQdMSX5vQghREhxOPMSgVf04lHCQMGs4MzrPovOV3fwdVtCQhEYIUaKpFkjWEwCI0KIx3Hk/Xgh/+OHkVu5acyfxzniqhFdlQY/F1C97rb/DCirBOfo1APz5535+++0Xv7z2pk0biY+/4JfXFiJYKIpCsnqeqb+8RaeP29Pp4/ZM+eUtktXzcsVSBJRP9y2k74pbiXfG07R8M9b23SzJTBFIQlNETzzxfxw7dtTnr3v69CmefvoxMjIyfP7aQgSTZCWOzgs78cyWZzgcf5jD8YeZtOUZblrQkSQlzt/hCYFhGrzw47NM2DQWl+Hi1lq381mv1VQIreDv0IKSJDRF5K/JYaVsUpoQRaJpKl8c+JzD8YeztR1JOMKKA5+jaXL6E/6T5kpjxLphvLPzDQAebPYwM7rMJsQS4ufIgpd8oovg3ntHcfr0KV588VleeGES3323hbvvvpOOHVvSrVt7nnnmCdLS0gCYOfMDHn/8P4wfP5Lu3Tuya9cOnM4MXn75ebp2bUevXt358svPadfuBk6dOgnAmTOnefTRB+nUqRV9+97CrFkz0HUdgH79br38v6tXr/RPBwgR4NLMJBb+vjDX9vm/zSfVTPJhREL840zqaXp93p0vD3+BVbXyXsfpPH7D06hBugZaoJBBwUXw4ouvcddddzJgwGCaNGnGyJFDeeihR7n++hs4duwozz03kRUrljNgwGAAvv12Cw8//Bj16zegevUrePvt1/n99195440p6LrOyy8/dzlhMU2TJ598hKuuuprZsxcSFxfHa6+9iKqq3HXXCD78cC4jRw7jww/nUrNmLX92gxABS0HFptlybbdrdlT5PSf84Pe43xi8qj8nU08Q64hlTrePaVG5pb/DKhHkE10EkZFRqKpKeHg4DoeDBx74P2699XYqVapM8+YtaNasOUeO/HOpOza2DL169eXqq69B1w3Wrl3Fgw8+wrXXNqBRo8Y88MD/XX7sjh3bOH36FI888iTVq19J06bXMX78Ayxe/AkA0dExl//Xbg+McvFCBJoQJZxxzcbn2j7uuvGEKJ5ZaVyIglr31xpuXt6Fk6knuCr6alb3+UqSGQ+SKzTFVK1adaxWG3PnzuTw4UP89ddhjhw5TNeuPS4/pmLFSpf//9Gjf+Fyuahbt97lbdde2+Dy///77yMkJSXStWu7y9sMw8DpdJKYmODdNyNECaHrBq2rtqHdFe3Y8veWLG1tq7elddW26Hrw1m0TwcU0TT74dSrPbH0SE5M2Vdoxs+s8oh0x/g6tRJGEppj+/PMA48aNoHXrtjRu3JQBAwZdvppyic32z6Vv7b/L9P7v4N7/Heer6zrVq1/Jyy+/ke21wsLCL4/NEULkLdSIZu4t89l9dhcf7pqBicmoJqNpXL4JoUa0v8MTpYRLd/H4t//HvD2zABhS7y5ebvMGVk0KBXuaJDRFdGkdi3XrVtO4cROeeWby5bbjx49yxRU1cnxelSrVsFqt7N+/j6ZNrwNg//69l9urVbuCM2dOEx0dc7n45rZtP7J69ZdMnPisrJ8hRCGEGtG0Lt+Rlt3bAqAaFgxDZgoK30h0JjBi3TC2HN+MgsKkli8wptF4OY97iYyhKSKHw8Hff/9FREQEhw4dZM+e3zl69G/ee+8t9u7dg8uVmePzQkND6dHjFt5553X++ON3fv/9N95++zXgYpLUvHkLKlasyHPPPcWhQwf55ZddvPrqizgcDjRNw+G4OKXv4MEDcrVGiAIwDBPcGrg1SWaEz/yVeISeyzuz5fhmQi1hzO3+CWMb3yvJjBdJQlNEt9/ej+XLF7Nv317q12/AAw+MZ9y4EZw5c4q77x7JgQP7c33u+PEPUKvW1TzwwFgmTnyEzp0v1uqwWKxomsbLL7+JaRqMGjWMJ598hBYtWvHAAw8DEB0dTdeu3Xn66cf58svPffFWhRBCFMJPp36k+7KOHIjfT6Wwyqy8fS3davTI/4miWBSzlK3UllNpc5crk/PnT1GmTCWs1tynenrKN998zXXXNSc0NBSAvXv/YOzY4Wzc+B0WS9HvAlosKm53zgMdff0eg9mlUvU5HSui8KQ/PUf60rO80Z9LDyzigU3jyTQyaVSuCfN7fErFsEr5PzHIefPYvLTv/MgYGj+YPXsG33//LYMH30VaWipTp75D69btipXMCCGE8B/TNHll2wu8uf1VAHrUuIWpN80gzBrm58hKD/kG9YOnn57M22+/xt13D8JqtdK6dVsmTPiPv8MSQghRBOnudO7fNJbPDy4H4L4mD/Jki2dk5V8fk4TGD2rUqMk770zzdxhCCCGK6WzaWYatGciOM9uwqBZeb/cOd9Yd4u+wSiVJaIQQQogi2Ht+D4NX9+dY8lGi7dHM7raQVlXa+DusUksSGiGEEKKQNh3dwIh1d5HiSqZGVE0+7rmEWtFX+zusUk1u8AkhhBCFMPO3D7hzVT9SXMm0rNyaNX2+kmQmAMgVGiGEEKIA3Iabp7Y+xszfZgAwoM4gXm/3Tp6V3YXvSEIjhBBC5CM5M4mR6+9i09GNAExsMYn7mjwoK/8GEElohBBCiDwcTfqbwav7s+/CXkIsIUzpNINbat3m77DEv0hCE+ScTidvvvkKW7Zswm53MGDAYAYOHOzvsIQQokTYfvpnhq4ZSFz6OcqHVmBBj0U0Lt/U32GJHEhCE+Tef/8d9u3byzvvTOfcudM899wzVKxYkQ4dbvJ3aEIIEdQ++3MpEzaNxak7qV+mAQt6LKJKRFV/hyVyIQmNB+mGzo+nvudM2mkqhFakRaWWaKrmtddLT09n5coveP31d7jmmjrUr1+PgwcPsmzZYklohBCiiEzT5I3tr/DqthcB6Hpld6Z1nkm4NdzPkYm8SELjIV8eWsHE7x7hZOrJy9sqh1VmcutXubnWrV55zYMHD6Drbho0aHR5W8OGjZk3bzaGYaCqMitfCCEKI8OdwYOb72XZn4sBGNPoXp658Xmv/jgVniHfeB7w5aEVDF83JEsyA3Aq9RTD1w3hy0MrvPK658/HERUVjdVqvbwtNrYMmZlOEhMTvfKaQghRUsWlx9F3xa0s+3MxmqLxert3eK7Vi5LMBAlJaIpJN3QmfvcIJtnrpV/aNnHro+iG7vHXzsjIyJLMAJf/7XJlevz1hBCipNp/YR/dlnXk59M/EmmL4tOblzO0/t3+DksUgiQ0xfTjqe+zXZn5XyYmJ1NO8OOp7z3+2jabHZfLlWXbpX87HA6Pv54QhaEo4NacJBPPhfQLqKqs1yEC09fHNtFzeWeOJv3FFZFXsrr3RtpV6+DvsEQhSUJTTGfSTnv0cYVRrlw5EhMTcLvdl7dduHAeu91OeHiEx19PiILS1UyOZOxnzLrhtJnXkp4f9+SHc9/g1FL9HZoQWUzfPp0BK/uQlJnIDZVuZG2fzdSOvcbfYYkikISmmCqEVvTo4wrj6quvQdMs/PHH75e3/frrburWrS8DgoXfWCwqO87/xA0zm7PiwApOJJ/gx+M/cvOnPZn16wx01envEIX473CBxxi7aiy6qdO39h0svXUFZULK+Ds0UUTyrVdMLSq1pHJYZRRyvpyuoFA5vAotKrX0+Gs7HA66d+/J66+/yN69f7Bly2Y++WQ+/foN8PhrCVFQCXocY1aNznFc2XPfPEeSEe+HqIT4R0pmMsPWDOSDX94H4LEbJjK10wzsmt3PkYnikISmmDRVY3LrVwGyJTWX/j251SteGyV/330Pcc01dZkwYQyvv/4yw4ePpl27jl55LSEKIjEzkeNJx3Ns002dfef3IeVvhL+cSD7OLZ91Y/3fa3FoDhb1XcR/rntEajKVAJLQeMDNtW5lZtf5VAqrlGV7pfDKzOw632vr0MDFqzQTJz7Lhg3fsnLlOvr3v9NrryVEQVjyud0pv4KFv+w6s4Ouyzrwx/nfKBtSjs97raJ//f7+Dkt4iCys5yE317qV7jV6+nSlYCECUaQ1hnrl6rHn3J5sbQ6Lg1oxtTCz340SwqtWHvqCe78aRbo7nbqx9VjQczHVI6v7OyzhQZLQeJCmarSq0sbfYQjhV2FEMfvWOXSY1540V9rl7QoKs26ZTYQSSw7Da4TwCtM0eXfnm7zw07MAdKremRldZhNhi/RzZMLTJKERQniUYZjUDLmGXSN38/HvC/nu2HfULlOb0U3HUMFWGdWQ047wjUw9k/98PYFF+z8GYESD0TzX6iUsqhyDJZH8VYUQHmcaCjFU5P7GDzOu8X3ERkaREJ+Oafg7MlFaXMg4z91rB/PDya2oisoLrV9leINR/g5LeJEkNEIIr3G7TVTFhkWTU43wnYPxfzJodT+OJB4m3BrBR13n0LF6Z3+HJbxMzjJCCCFKjO9OfMPdaweT6EygWkR1FvRYTN0y9fwdlvABmbYthBCiRFi4Zx79V/Yi0ZlAswrXs6bPJklmShG5QiOEECKoGabB8z88w9Td7wDQ++q+vN3hfRwWKdJbmkhCI0SAURSFTCUNp5mBXXFgM0MxZeEWIXKU6kpl3MaRrDnyJQAPX/cY/3f947Lybykkt5xKiMzMTO68sx87d273dyiiGFxqOntSdjF01Z20nncjQ1fdyR/JO3Gp6f4OTYiAcyrlJLd93p01R77EptqYdtNHPNL8CUlmSim5QlMCOJ1Onn12IocPH/J3KKI4NIO1f61i+Mp7Lm86mXySr458xcxbZnHLlb1Bl98gQgD8em43g1ffwenUU5QNKcucbp/QvNIN/g5L+JGcHT1J17Fu/Rb78iVYt34Luu71lzxy5DCjR9/NiRM5FwMUwSPROM/96ybk2Hb/ugkkGud9HJEQgWnNkVXc+lk3Tqee4pqYOqzps0mSGSEJjafYvlxBbLP6RN/ek8gxw4m+vSexzepj+3KFV1939+6dNG3ajA8+mO3V1xHeF5d2jpTMlBzbUjJTiEs/5+OIhAgspmkydde73LXmTtLcabSv1pFVvTdwReSV/g5NBAC55eQBti9XEDl8CP+uuKeeOkXk8CEkzZxP5s3eqbh9++19vbJf4Xv5FTLVFCl0Kkovl+7i0W8eYsHeuQDcVX84L7Z5TcoYiMvkCk1x6TrhEx8B0+Tfw9CU/yY44RMf9cntJxHcyjjKUj6sfI5t5cPKU8ZR1scRCREYEjLiGfBlbxbsnYuqqExu9TKvtH1TkhmRhSQ0xWT98Xu0kyezJTOXKKaJdvIE1h+/92lcIvhEqWVY0GshVtWaZbtFtTC/1wKi1DJ+ikwI/zmceIgey2/i2xNbCLOGM7/7p4xqNE5mMolsJL0tJvXMaY8+TpRehg6NYq9j9+hfmLVrJrvP7KZxhcbc02Q4ZS2VMOQinyhlfji5lbvW3Em8M54q4VVZ0GMx9cte6++wRICShKaYjAoVPfo4UbopukY5pSpPNH8Gl5mJVbGju02QZEaUMp/uW8h/vp6Ay3DRpHxT5nX/lAphch4VuZNbTsXkatESvXJlzFwuf5qKgl65Cq4WLX0cmQhmuhtU3XYxmRGiFDFMgxd+fJYJm8biMlzcUqsXn922WpIZkS9JaIpL00iZ/CpAtqTm0r9TJr8CmsxQEUKIvKS50hi5/i7e2fkGAA80fZgPu8wh1Brq58hEMJCExgMyb76VpJnzMSpVyrLdqFTZq1O2/+3HH3fStOl1PnktIYTwpDOpp7n9ix6sPPQ5VtXKux2n8USLp1EV+ZoSBSNjaDwk8+ZbudC9J9Yfv0c9cxqjQsWLt5nkyowQQuTp97jfGLL6Dk6kHCfGHsOc7h9zY+VW/g5LBJmASX1HjRrFY489lmv7999/z80330yjRo0YOnQox44d82F0BaRpuFq1wdm7H65WbSSZEaKEMLRMUognQ01B02S6sCet/2sNt3zWlRMpx7kq+mrW9N0kyYwokoBIaFatWsWWLVtybT958iTjx4+nd+/eLF26lNjYWMaNG4dpyoBJIYT3mKrOaf1vHto8gTbzW9Jr2c1sOLGaDC3Z36EFPdM0+eCXqQxdM5BUVwptqrRjde+N1Iyq5e/QRJDye0KTkJDAq6++SoMGDXJ9zJIlS7j22mu55557uPrqq3nppZc4ceIEP//8sw8jFUKUJqqqcCTtAM0+bMrHv3/MieQT7Dy1kwHL7+DZ757Bqab6O8Sg5dJdPPLNQzy19XEM02BIvbv49OblRDti/B2aCGJ+T2heeeUVbrvtNq666qpcH/PLL79w3XX/DHYNCQmhfv367N6926OxlOQrPiX5vQnhDWkkMW7NxanD/zZz10dccEmx0KJIdCZw56q+zP1jJgoKk1q+wOvt3sGqWfN/shB58Oug4B9++IHt27ezcuVKJk2alOvjzp07R/nyWWvclClThtOnC7/6bk7LxWjaxbxO192AvdD7DAYX39vF9yorhuftUv9IP3lGsPZnqp7MzlM7c23f8vfXDK59D7pu+CymYO3LS/5KPMKgVf05EL+fUEso0zvPpHvNnn6LJ9j7M5B4sy8Luk+/JTROp5NnnnmGp59+GofDkedj09PTsdlsWbbZbDYyMzML/bplykRk22aaJunpiaSmJmKzWYO2Rkhu3WGaJqmpiURGRlC+fHTQvj9fy+lYEUUXbP2ZFG9FQcEk56ubodZQYmLCfBzVRcHWlwBbj26l1/JexKXFUSWiCisHrqRJpSb+DgsIzv4MVP7sS78lNFOmTOHaa6+lTZs2+T7WbrdnS14yMzOJjIws9OueP59MTndfHI5IUlJOc+7cqULvM1Coqoph5PxrUVFU7PYIzp9P8XFUwUdRLn4ocztWROEEa3+GqOF0rtmZ9YfXZ2tTUGhVtTVxcb4dHBysfbl0/yLu3zSeTCOThuUas6DHp1SyVvZ5//1bsPZnIPJmX17ad378ltCsWrWKuLg4mjS5mKFfSljWrVvHrl27sjy2QoUKxMXFZdkWFxdH3bp1C/26pkmOna1pVsqXr4rbnf1+eTBQFIiJCSM+PjXH92exXLzyJB/agsvtWBFFE2z9aTVCeLPL27Sb24bz6eeztL3W+XWitDKYvrvblEWw9KVpmry67UXe2P4KAN1r3Mz7N31ImDUsoOIPlv4MBv7sS78lNPPnz8ftdl/+9+uvvw7Aww8/nO2xjRo1YseOHZf/nZ6ezp49e7j33ns9GpOiKFittvwfGIAUBRwOB1arSz6YQniAaUIla3V+uudnPj/wOWsPraFqRFXGNhtHldDqWIySOd7OUzLcGdy/aSyfHVwGwL1NHmBii0my8q/wGr8lNFWqVMny77Cwi/eir7jiCnRd58KFC0RFRWGz2ejTpw8zZ85kxowZdOjQgalTp1K1alVuuOEGf4QuhCgldN0gknLcU3c0Q+rchaZaMFwK+OnKTLA4m3aWYWsGsuPMNiyqhdfavs2gekP9HZYo4QIyVT516hStW7e+fOupatWqvPfeeyxbtoy+ffuSkJDA1KlTZXCrEMIn3G4DRbdeTGZEnvae30P3ZR3ZcWYb0fZoFt/yuSQzwicUs5QtUBIXVzIHfykKlC0bUWLfny9JX3qW9KfnBHpfbjq6gRHr7iLFlUyNqJp83HMJtaKv9ndYuQr0/gwm3uzLS/vOT0BeoRFCCBFcZv72AXeu6keKK5kbK7diTZ+vAjqZESWPVNsWQghRZG7DzVNbH2PmbzMAGFBnEK+3ewebFpwTLETwkoRGCJEj1WYQ7zqHgko5W0WcTt3fIYkAk5yZxKj1d/PV0Q0ATGwxifuaPCjjG4VfSEIjhMjCYlE5p59g6vdT+WL/F9gtdu5ufDf96vUn2ixHLms3ilLmWPJRBq/qz94LewixhDCl0wxuqXWbv8MSpZgkNEKILM7qJ2g7pw1nU89e3vb4V4+z+I/FLOm7hEjK5/FsURpsP/0zQ9cMJC79HOVDK7CgxyIal2/q77BEKSeDgoUQ/7C5eeent7MkM5fsOr2Lbae2YbHIaaM0+/zPZdz+RU/i0s9Rv0wD1vXZLMmMCAhyZhJCXJbgOs8X+7/ItX3hbwsxtOAsDyKKxzRN3tj+CqM23I1Td9Llim6s7L2OKhFV/R2aEIDcchJC/A8FJc/ZKXbNjqZoslBuKePUnTy4+V6WHlgEwOhG45l042Q0VfNzZEL8Q67QCCEuK2utwJCGQ3JtH95kOHqmnDZKk7j0OPp8cQtLDyxCUzRea/c2z7d6SZIZEXDkzCSEuMyVaXJXo7uoV65etrZe19zONbF1MWSaU6lx4MJ+ui/ryM+nfyTSFsUnNy9jWP17/B2WEDmSW05CiCyizHJ8cccKth77jk9+/wSHxcHIpiOpV7Ye4XoZf4cnfGTLsc0MXzeUpMxEqkdeycc9llA79hp/hyVEriShEUJkYRgQRXluu7If3WvcjKqoqG4bui5XZkqLuX/M4rFv/oNu6jSv2II53T+mbEhZf4clRJ4koRFC5Mjl0lGwYQK6DAMuFXRDZ9IPE/ngl6kA9K19B291mIJds/s5MiHyJwmNEEIIUlwpjN0wnHV/rQHg0eZP8lCzR6SMgQgaktAIIUQpdyL5OINX38Ef53/Drtl5r+N0el3dx99hCVEoktAIIUQptuvMDoasGcDZtDOUDSnHvO6fcF3F5v4OS4hCk2nbQniYac8gXjlFonoWh8Pq73BKPdUCqUoCqUoCqvyEy2LloS/o9UUPzqadoW5sPdb22STJjAha8vEWwkM0K5x2HeP1za+z4fAGouxRjL1uLN2v6kGELjNEfE1RFJKUOBb8Mo+5v84FYGjDYQxpMJRIsyymafo5Qv8xTZN3d77JCz89C0DH6jfxYZc5RNgi/RyZEEWnmKXsUx0Xl0xJfMeKAmXLRpTY9+dLRelLTYPjriO0mtWKlMyULG2da3Zmes/pROjlvBBt4PPXsZminuemhZ04HH84y/Ya0TXYOHgTEUbwranjib7M1DN5eMv9fLpvIQDDG4zi+VYvYymFl6/kvOk53uzLS/vOj9xyEsID0tVkJm6amC2ZAdhweAN/J/6NJivF+4ymqXxx4PNsyQzAkYQjrDjwOZpW+k5/FzLO02/lbXy6byGqovJSm9d4qc3rpTKZESVP6ftEC+EFqe4UVv+5Otf2pXuXEhIia3n4SpqZxMLfF+baPv+3+aSaST6MyP8OJfxJ92Wd+OHkVsKtEXzccwnDG4z2d1hCeIyk5UJ4gqJg1azobj3HZofm8HFApZuCmm/VcLUU/Z777sQ33LN2MAnOBKpFVGdBj8XULZO9XpcQwaz0fKKF8KJoSzQD6g/Itf2Oa+8gJcXpw4hKtxAlnHHNxufaPu668YQo4T6MyH8+3juf/it7keBMoFmF61nTZ5MkM6JEkoRGCA9QMh083vpxqkVWy9Y29rqxlA8p74eoSi9dN2hdtQ3trmiXra1t9ba0rtq2xNemMkyD5354mgc2j8dtuLn9qj4sv+1LyofKsShKJrnlJISHlLdU5auhX7H24FpWHlhJtCOa0deNpmZULcKkSrXPhRrRzL1lPrvP7uLDXTMwMRnVZDSNyzch1Ij2d3helepKZfzGUaw+shKA/1z3KI9c/4SUMRAlmkzbLiFk+qHnFLcvQ0KspBrJWFUrZGroOQ+rKTX8fWyqqoKhui/+f8OCYQTvB6QgfXk69RSDV9/Br+d2Y1NtvN1xKn1r3+HbQIOEv4/NkiQQpm3LFRohPCw93YWKg1KexwQMwzDBuDhn3qBkf2v9du4XBq++g1OpJynjKMOc7p9wQ6UW/g5LCJ+QhEYIIUqAtUdWM2bDPaS506gdcw0Leizmyqga/g5LCJ+RQcFCCBHETNPk/d3vMWzNQNLcabSr2oFVvTdIMiNKHblCI4QQQcqlu3js2/8wf88cAIbVH86LrV/FqklRVFH6SEIjhIeZFjepejIaGuFqtF+mB2uaSoqRgI5OmBaB4i78R12xmKToCSioRGoxuN0le5pzsEnIiGf4uqF8e2ILCgrPtXqRUQ3HyUwmUWpJQiOEhygqxBkneeu7N1l9cDVR9igeuOFButToSoge5bM40rVE1h9Zxzs/v01CRgI9rurBgy0eoqxaGbMAOYmqKsSbZ/jg5+ks2bsEu8XO6KZj6H1NH8LNGJkNEgAOJxxi0Kr+HEz4k1BLGDO6zKLLld39HZYQfiXTtksImX7oOUXpS0WBM/pRWsxqka1AZferujO924eEGJFeiDardDWJsWtHsfpg1rpS4bZwfrjnRypq1fN9T4nKWVrNacnZ1LNZtjer1IylfZYTZsQUKiY5Nj1HUWBP6i56fdKLeGc8lcOqsKDnYq4t28DfoQUlOTY9JxCmbcugYCE8wKU6mbg552rbaw6u4WjyX3j7ToCiwN/JR7IlMwApmSk8tXkiLjWf8gsWgynb3suWzADsOLWDnWe2o6pyS8NfFu37mJvm3US8M57G5Zqwru9mSWaE+C9JaITwgHQjhZUHVubavnTvEiwWzasxWCway/Yty7V9xYEVpBvJee4jRU9kyd4lubbP/mU2pior7PiaYRq8+ONz3PvVGFyGi5tr3cbnvdZQIayiv0MTImDIGBohPCSvatuh1lCfxBBiyb2qt1W1AnlfXVEgzyrVIZYQVEWVRQN9KM2Vxn2bxrDy0OcAPNH6Ce5v+AiK/B4VIgv5RAjhAeFqFIMbDMm1vW/dfrhc3k0DXC6dfnX759o+pOFQwtW8BydHarGMaDIi1/ZRTUdjuOWWk6+cSTvD7V/0YOWhz7GqVt7rNI0XOr2AqsipW4h/k0+FEB6g6BYebflYjtW2H7jhAco7KvkkjvKOSjx4w4PZtleLrMajLR9D0fO+KKu7TQZdO5j65epna+tXrz+1o+tQyuYR+M0fcb/TbWkHdp3dSYw9hqW3rmBAnUH+DkuIgCWznEoIGa3vOUXtS1VVSDTPsfGvDSzdu5TYkFjGXTeemhFXYTfCvRfwvzjVFA4nH+T97VO5kH6BvnX7ctOVnYlSyhWoMKOiQLJygR9PfM/cX+cSag1lTLOx1ImpS4hR+OnncmwW3oa/1jJqwz2kulKoFX0VC3suoWZULelLD5P+9JxAmOUkCU0JIR9MzyluX1osKi6cqIoF3Ipf/h6KAlhMdMONTbEXaVE8TVNxK5moqCiGVuQq1XJsFpxpmnz46zSe/v4JDNOgTZV2zOw6j2jHxany0peeJf3pOYGQ0MigYCE8zO02ULD6ta6zaQIuBRUrboq2wq+uGyhYMAGzhFepDgRuw80T3/4fc/6YCcDgusN4pe2bUsZAiAKShEYIIfwsyZnIiPXD+PrYJhQUnr7xecY1vk/KGAhRCJLQCCGEH/2d9BeDV/Vnf/w+Qi2hvH/TR/SoebO/wxIi6EhCI4QQfvLzqZ+4a+1A4tLjqBhWiQU9FtGwXGN/hyVEUJJp2wJNU8hQU0ghHkPL9Hc4RaaqCk41lRQlHrfmLFKpAYtFJZVETiWfQrHIuBHhPcsOLKbPipuJS4+jQdlGrOuzWZIZIYpBEppSLkNNYsOJ1fRadjNt5rfkwc33cVr/O+iWt3eqKfx0/lv6f96bNvNaMmbdcI5k7EdXC5agKQqkqvHM3juDLp924saZN/LyT8+TqJyV2kXCo0zT5NWfX2TsxhE4dSfda9zMitvXUim8sr9DEyKoybTtEqIoU+acaiqTtj7FzF0fZdlu02xsGfYNV4fWL/JUXV9yqxl89Pt0nv766SzbFRRWDvySluXa5TttOVWNp++y3uw4tSPL9nKh5dh69w9Em+U9HndpIVNj/5HhzuCBzeNY/udSAMY3vp+nbny2wCv/Sl96lvSn5wTCtG25QlOKXcg8ly2ZAcjUMxm/Zhxp5F3IMFAkGQk8u+XZbNtNTMasGk2CcT7P56uqwvbT27IlMwDn0s7x/rYpKJaiTX0W4pKzaWe5/YueLP9zKRbVwpvt3+OZls9LGQMhPEQ+SaWUpqlsObol1/adp3aS4k7yYURFoyiw//x+dDPnW2THk46T4IzPeyeawbxf5+bavGjPIpL1xOKEKUq5vef30H1ZR3ac2UaUPZpFN3/G4HrD/B2WECWKzHIqxeyaPdc2BQVVDY58155HdWgAi6rl2a6g4MijSrXdYs+nRrUQudt0dAMj1t1FiiuZKyNr8HHPpVwVc7W/wxKixAmObyzhcbpu0LZ6W5Rcvqo71+xMhFb4uj2+ZppQK6ZWrglJvXL1iLLG5LkPw60wqunoXNtHNhlJpBpbrDhF6TTztxncuaofKa5kbqzcirV9N0kyI4SXSEJTikVpZXi98xvZtpcJKcObXd7GZoT4IarCi1BimX3r7GzJWag1lDm3ziWMvBMz0zSpHV2HfvX6Z2urX64+A+sPQtdlxKAouEtlDB7/9mEM0+COa+5k8S2fE+so4+/QhCixZJZTCVHUEeaZahon0o8ybfv7HE8+Trda3elVuxcxagV0PXgGwuqqkzOZJ/lgx3QOXDhA62qtufPaQcSqFTCNgt0wSlcT2R+/l2k7ppHmSmNow6HcWKUVEWZsiTxmfKW0zSRJzkxi1Pq7+eroBgAmtpjEfU0e9EgZg9LWl94m/ek5gTDLSRKaEqI4B5OigPLfyszWIlZmDhSaBVxm5n8rTBf+D62qCqamExpmxZliBnVfBIrS9KVxLPkog1f1Z++FPYRYQpjSaQa31LrNY/svTX3pC9KfnhMICY0MChaYJpguBaUYlZkDhe4GFRvuIlaHNgwTxVQJtYaSpgfHtHURGHac2cbQ1QM5l36W8qEVmN/9U5pUaObvsIQoNSShEUKIYvri4HLu+2oMGXoG9cs0YEGPRVSJqOrvsIQoVYqU0Bw4cIA9e/Zw/vx5VFWlbNmy1KtXj1q1ank6PiGECFimafLWjtd4+efJAHS5ohvTO88k3Jb/5XEhhGcVOKFJTExk4cKFLFq0iLi4OKpWrUpMTAyGYRAfH8+JEyeoWLEi/fv3Z+DAgURFBf6UXyGEKCqn7uShzfex5MCnAIxuNJ5JN05Gy2fdIyGEdxQooVmyZAkffPABbdq04fnnn6dFixbYbFkXM0tNTWXXrl2sWrWK2267jbFjx3LHHXfkud+///6b5557jp07dxIVFcXgwYMZMWJEjo8dO3YsmzZtyrJt+vTpdOjQoSBvQYgCsds1zmWeJin+HNG2MujOwq9sYNoySXTFoykaZSwVycx0F+r5iqKQqaThNDOwKw5sZijBOHZfUcClOskw0lDTXaiqrcRMfz+ffp671t7JT6d+QFM0XmrzOnddO9zfYQlRqhUooTl+/DifffYZERG5X0YNCwujdevWtG7dmvj4eGbPnp3nPg3DYNSoUTRo0IDPPvuMv//+m4ceeogKFSpwyy23ZHv8oUOHeO2117jxxhsvb5OrQMJTVBUSlHMs+XUxs3fPxul2cts1tzHu+vGU16oUaLaTaoEz7mO8/vXrbDi8gSh7FOOuH0f3Wj0I1wu2/ohLTedg8n6e++ZZ9sbtpW7ZujzV5mmujqyDNUjWBQLQ1UyOpR9h8rfPs+PUDqpFVWNi66doVK4pdj3M3+EVy5/xB7hzVV/+TvqLSFsUH3WdS/tqHf0dlhClnt+mbZ89e5YXX3yRyZMnEx4eDsC9995L2bJlmTRpUpbHZmZm0rhxY1atWkWNGjWK9boldXqeTD8sniT1LP2W9mPX6V1ZtpcLLce3d39LrFk5z+erKpxwH6HVrFakZKZkaetcszMf9JyRf1KjGaz8aznDV96TrWnmLbO45creoAf+WpgWi8r357Zwyyc3Y/5rttmz7Z5lVINxaEbuZTcC2ZZjmxm+bihJmYlUj7yShT0Wc01sHZ+9vnzOPUv603OCdtr2xo0bOXz4MJmZmdna7r333gLto3z58rz99tvAxYF1O3fuZNu2bTzzzDPZHnv48GEURaFatWpFCVeIPFksKj8d/zlbMgMXq22/+9O7PNf6BYzM3MdGONVUJm6amC2ZAdhweAN/JR6hYWQZjDwu9CQa57l/3YQc2+5fN4G2I9sRRbn835CfJehxjFk1OlsyA/DcN88xoP5AYqjoh8iKZ94fs3n0m4fQTZ3mFVswp/vHlA0p6++whBD/VeiE5tFHH2X16tXUrVsXuz3rr6yiroTZsWNHTp48SYcOHejatWu29sOHDxMeHs4jjzzCzz//TMWKFbnvvvto165doV/LA4t1BqRL76ukvj9vMq1uPv39k1zbP9v3GQ/c8CAxSoVcH5OqJ7P6z9W5ti/du5Tm7W4kPd2V62Pi0s/lmBABpGSmcD79HNEhgZ/QJLoSOZ50PMc23dTZd34frcpVDJpfxLqhM+n7iUz/ZSoAfWv3560OU/IsaOot8jn3LOlPz/FmXxZ0n4VOaDZs2MCUKVOKlEzk5t133yUuLo5Jkybx0ksvMXHixCzthw8fJiMjg9atWzNq1Cg2bNjA2LFjWbRoEQ0aNCjUa5UpU7KnU5b09+cNGa4MbHlU7LZb7GiaStmY3Ps24cIZrJoV3a3n2B5iCSEszEFYWO5fgkdPWfOM02qxFuiyq7+dO5f3+wixOoLmOE3JTOHOZUNZeWAlAM+1f46JbSd6pIxBcQRL/wUL6U/P8WdfFjqhqVChAjExeVcvLqxLSYnT6eThhx/mkUceyTKLaty4cQwZMuTyIOA6derwxx9/sHjx4kInNOfPl8x7pYpy8UAqqe/Pm1RVZXiT4SzbuyzH9qENhxKrlicuLveVgyOt0QyoP4A5v8zJsb1//f55Ph8gxhpL+bDynE09m62tfFh5Yqyx+e4jEISpkdQrV4895/Zka3NYHNSIqhkU7+NE8nEGrbqDP87/hl2z816nadx+dV/On8/5KpovyOfcs6Q/PcebfXlp3/kpdELz/PPPM2nSJIYMGULlypVR1ayDFK+//voC7ScuLo7du3dz0003Xd521VVX4XK5SElJITY29vJ2VVWzzWiqWbMmBw8eLGz4F5f5L8EHbkl/f96g6wbXxNal1zW38/n+z7K01StXj6GNhuLKzLtTlUw7j7d+nK+OfMWxpGNZ2sZdN44KIZUwc754c1mkVoYFvRbS85MeuIx/bk1ZVAvzey0gUi2Dkc8+AkGYEsXsW+fQYV570lxpl7crKMy6ZTYRSixmgFfY2H12J0NWD+BM2mnKhpRjXvdPuK5i84D5bMnn3LOkPz3Hn31Z6IRm9+7d7Nu3j8cffzxbm6Io7N27t0D7OX78OPfeey9btmyhQoWLYxN+//13YmNjsyQzAI899hiKovDSSy9d3rZv3z5q165d2PCFyFGEUYY3u7zByGYjmLFjBhnuDAbUH0Dr6m2INssXqMJVOa0KXw3dxNqDa1h5YCXRjmjGXDeGWlFXEapH5/t8Q4dGsdexe/QvzNo1k91ndtO4QmPuaTKcspZKQZHMwMV6WDVDrmHXyN18/PtCvjv2HbXL1GZ00zFUsFVGNQK74sqXh1Yw/quRpLvTqRNblwU9FlM98gp/hyWEyEehp203b96csWPHcuedd2YbFFwYuq7Tv39/oqOjefzxxzlx4gRPPPEEo0aNYtiwYZw7d46IiAgcDgfr16/noYceYvLkyTRp0oSVK1fy4YcfsmrVKqpWLVy9lJI6PU+mH3qGpqkYlkwsNgXFaSMzs/BZhN1uId1MxaJaIVPNc2ZTrnH8t2q4VbGjF6FqeKCwWBRcOImNjCIhPj2gj03TNHlv11tM/nESAB2r38SHXeYQYYv0b2D/Qz7nniX96TmBMG270Ita2Gw2OnToUKxkBkDTNN5//31CQkK44447ePLJJxkyZAhDhw4FoHXr1qxefXHWSJcuXXjmmWeYNm0aN998M5s2beKjjz4qdDIjRH503YBMC9GOaFyuol0ScTrdqJl2jIyiJTPw36rhui2okxkAt9tE1W1YtMC+KpOpZ/LA5vGXk5nhDUaxoMfigEpmhBB5K/QVmmXLlrFx40Yef/xxqlatmm0MTaArqZm4/NLwHOlLzwr0/ryQcZ571g7h+5PfoSoqL7R+heENRvs7rBwFel8GG+lPzwmEKzSF/tk0depUzp49y9dff51je0HH0AghhL8dSviTQav6czjxEOHWCD7sMptOV3Txd1hCiCIodELz8ssveyMOIYTwqa0nvuXutYNIcCZQLaI6C3ospm6Zev4OSwhRRIW+X9S8eXPS09NxOp00b96c5s2bs2HDBjIyMmjevLk3YhRepmkKGWoKKcRjaNnLWfiKbk0ngTOkahewWv1zK9Nu10jkHIfjD6PaijYAxrS4SVHiSVeS0LTCvw9FUXCp6aQo8bjUdL8t4qbaDBKVMyQp57Dbcy/7EIw+3juffitvI8GZQLMK17Gmz6aAT2Ysmkp4aiKcOoWtQPPuhChdCn22nT9/Pg8++CBxcXGXt1ksFh544AEWL17s0eCE92WoSWw4sZpey26mzfyWPLj5Pk7rf2OqvpsjbGgujrsPMmHDvXSY354+S3uz8u/lpGoXfBaDqkKSdo73f32XHp92p+Pcjjy79WkuKKewWAr2MVFUOM9JnvruMdrOb0WPxV1ZfuRT0rXEAsfhUtPZk7KLoavupPW8Gxm66k7+SN6JS00v6lsrNItFJV45xXPfP81NC26ix6fdef/Xd0nSzhFkQ+ayMUyD5354mgc2j8dtuOl1VW+W37aK8qHl/R1arhQFolPjiZozA0eXTtCiBeEvP09M4llUVdbsF+KSQg8K7tixI0899RQdOnTIsv2rr77ipZdeYuPGjR4N0NNK6uCvogzIcqqpTNr6FDN3fZRlu02zsWXYN1wdWh/D8G5nWSwqfyTvouPcjlkWkwMY2mgoz7WdXKA1XIqruNW2FQXO6EdpMatFtnpM3a/qzvRuHxJi5DNjJkCqbV9QTtF2TptsKxY3qdiEJX2XEGkU7ss/UAZeprpSGb9xFKuPXCxj8NB1j/DI9U+gKoGdpUWlxmPt1wdl+/asDeXK4d76PfHRudcYE3kLlGOzJAiEQcGF/iTHx8dTvXr1bNtr1KiR5aqNCHwXMs9lS2bg4hTW8WvGkYb3l6dPNM8zYc2EbMkMwLxf5nHB6f1jymJR+elk3tW2VVveV6xcqpOJm3Outr3m4BqOJv+Vb4G1/KptJxrn896BJ9jcvPPT2zmWX9h1ehfbTm0r8BWrQHI69RS9Pu/B6iMrsak2pnaawWPNJwZ8MqOqCtrO7dmTGYBz51CnTpHbT0L8V6E/zc2aNeO9994jPf2fS+BOp5Pp06fTpEkTjwYnvEfTVLYc3ZJr+85TO0lxJ3k9jhR3Uo6JxCWbjmzCZvPu+A3Tkn+17QuuvBOrdCPlcgHDnCzduwSLJe/3EZeWd7XtuPRzeT7fExJc5/li/xe5ti/8bSGGlnvF8ED027lf6Lq0A7+c20UZRxmW3raSftcM8HdYBWLFQJszJ9d2ddEiHCkJPotHiEBW6FlOTz/9NPfccw+tW7fmyiuvBODo0aOULVuW999/39PxCS+ya7kvjqig+GSNIU3J+0vebrF7/VKwippvtW2F/Mcq5FVtO9Qamu/zNTXvvsivrzxBQcm7LzQ7mqIFzTWBtUdWM2bDcNLcqVwdXZuFPZdwZVQNf4dVcIqC6XDkfvTZ7ZgFODaFKA0K/Y1VvXp1Vq9ezauvvkqPHj249dZbef311/nyyy+pUSOIThSlnK4btK3eNtcv6s41OxOhReXY5knhWiSdanTKsU1BocOVHYq8Ym9B6ZkXq23nZmjDoZS15j1OIVyNYnCDIbm2963bL9/3UcZRlvJhOY9PKR9WnjKOsnk+3xPKWiswpGHu72N4k+HomYF9mwYuljF4f/d7DFszkDR3Km2rdmB1n43BlcwAmYaCMXpMru3GiJFkRMXm2i5EaVKgM9MPP/yQ5d82m41OnToxfPhwhg0bRrt27dC0rL8ev//+e89FKbwiSivD653fyLa9TEgZ3uzyNjYjxOsxhJqRvNX1LWJDsp+UX+z0IlGWGK/HYBj/VNv+twJX29YtPNryMapFVsvW9sAND1DeUSnfOKLUi9W2rao1y/ZL1baj1DL57qO4XJkmdzW6i3rlsk9h7nXN7VwTWxejqPUcfMSlu3h4y/1M+v5JTEyG1ruHT3ouJcoe7e/QCs00TVxXX4PZ/47sbfXrow8ajEuX0axCQAFnOf3nP//h7NmzDBw4kHbt2hEWFpbj49LT01m/fj2ffvoplSpV4s033/R4wMVVUkezF3WEeaaaxon0o0zb/j7Hk4/TrVZ3etXuRYxa4WJdIx+wWFTO6SdYuncpm//aTMWwioy7fhxVwqoRonv/KtElKVoce8/vzVZtO4byBarJpKoKieY5Nv61gaV7lxIbEsu468ZTM+Iq7EZ4gWIwNZ0496kcq20rum/WglFViOcsW499xye/f4LD4mBk05HUK1uPcL3wV4l8OZMkISOe4euH8e3xr1FQeLbVC4xuON5va/l4SkR6Etb9e1GnvY+SloY+dCj6ja1IiogtkeczX5FZTp4TCLOcCjxt+8cff2TatGns2rWLhg0bUrNmTWJiYjAMg4SEBPbv38++ffto3Lgxo0ePplWrVsV+E95QUg/c4hxMigKKxUQ33FgVO263f36B2+0a6UYqVtWO7vTPF5Anqm1bLCounKiKBdxKkY63QKi2bbVqZCrpqIqK6rYVOcH11ZfGkcTDDFrVj4MJfxJqCeODLrPoemV3772gjymKgh2diFAr8U7Tb5/TkkQSGs8JqoTmksOHD/Pdd9+xZ88eLly4gKIolClThnr16tGmTRuuuOKKIgftCyX1wJUPpudIX3qWL/rzx5Pfc9faO7mQcYHKYVWY33MRDco29M6L+ZEcm54l/ek5gZDQFHqWU82aNalZs2aRghJCCE9btO9jHvr6PlyGi8blmjC/xyIqhFX0d1hCCB8rdEIjhBCBwDANXvl5Mm/teB2Am2vexpROHxRoirwQouSRhEYIEXTS3enc99UYVhz6DID7m/6Hx294KuBX/hVCeI8kNEL8D4tFJUmPx5Wcgs0Shukq/OBk0+ImVU9GQyNcjfbZbLHS4kzaGYatHsDOszuwqlbeaP8uA+oM8ndYooA0TSUkJQFF18kMi8CpyNeQ8Aw5koTg4qCzFCWe5XuX8cHO6TjdTvrV7cfoZmOIUSoUqEinokKccZK3vnuT1QdXE2WP4oEbHqRLja4+nX5ekv0R9ztDVt/B8ZRjxNhjmN1tIS2rtPZ3WKKAotITsWxYj/r2W5CQgK1bd8L+8x+SylbGT5P5RAlS6FlOAN999x379u3D6XTy76ffe++9HgvOG0rqaHYZrV88qWo8fZf1ZsepHVm2lwstx9a7fyDazLvCtEeqbZdQnjo2N/69jpHr7ybVlUKt6KtY2GMxNaOv8lygQSCYP+cR6UnYx41GWbUqa0N4OPoPPxJfsbrP31Mw92egCcpZTq+++iqzZ8+mTp06hIdnXSws2BevEqWTqipsP70tWzIDF6ttv79tCk+2mITpzn18hkt1MnFj3tW264Q3lJNmEZimyUe/TeeprY9jmAatq7RlZtd5xDhkyf9goShgPfpX9mQGICUFdeKTOKZ9RLol9/pyQuSn0AnNkiVLeOONN+jRo4c34hHC9zSDeb/OzbV50Z5FTLj+QcLJvQxDQaptT7qxidfrUpU0bsPNk989wuzfPwJgUN2hvNL2zTwLaIrAY7FoKMuX5dqurFyJ/c1k0iMkoRFFV+iERtM06tev741YhPALBQWHxZFr+8Vq2/krbrVtkVWSM5GR6+9i87GvUFB46sbnGN94glwJDlaO3D9jWK1SNVwUW6HnOA4ePJh3330Xp9PpjXiE8DnDrTCq6ehc20c2GUmkmvftDU9U2xb/+DvpL3ou78zmY18RaglldreF3NvkfklmgpTLpWP27ZdruzFoMM4IGTgviqdAV2g6dux4+URimiYnT55k/fr1lC1bFlXNmhN99dVXno9SCC8yTZPa0XXoV68/S/YsztJWv1x9BtYfhJ5PReNL1bbXHVrLsaRjWdouV9uW2dsF8vOpn7hr7UDi0uOoGFaJBT0W0bBcY3+HJYopo3wlQh56CPXfRYurVcN4/HEyZNKtKKYCzXL67LPPCrzD22+/vVgBeVtJHc0uo/WLL11NZH/8XqbtmEaaK42hDYdyY5VWRJgFq2jsiWrbJVFhjs1lBxbzwObxOHUnDco2YkGPRVQKr+ybQINAsH/Ow50p2I4cQp06BeXCBYw+fdA7dyEpqlyBlkbwtGDvz0ASCLOcCj1te8qUKQwfPpyQkJAs21NSUpgyZQqPPfZY4SL1sZJ64MoH0zNUVcHUdELDrDhTilbR2BPVtkuSghybpmny2raXeH37ywB0q9GT92/6kHBr6U0Ec1ISPueKAjYMVF3HZbP7tWp4SejPQBEICU2BrvEdPnyY8+fPAzB16lTq1KlDVFTW+50HDhzg008/DfiERoi8GIaJYqqEWkNJ05OLtA+320DBipwfCybDncEDm8ex/M+lAIxrPIGnWjyLpmp+jkx4g2mCExVUFfyYzIiSp0AJzdmzZ7nrrrsu/zunxfNCQkIYNmyYxwITQpR859LOMWzNQLaf+RmLauHVtm8xuJ6cR4QQhVeghKZFixbs27cPuDhAeOnSpcTGyqJWQoii23dhL4NX9edo8t9E2aOZ2XUebau293dYQoggVehh5Zs2bfJGHEKIUmTT0Y2MXH8XyZlJXBlZg4U9l3B1TG1/hyWECGKFnradH5m2XTiKZpBiJKKgEqHG+KUys6YppJrJuA0XoVoYql74VVgtdjifeRaAMrbyuIN0mSJPVNsWeZv1+4c8+e0j6KbOjZVbMbvbAmIdZfwdllepqkJIegqqKxO3I5QMq10GoRaDTTGxpySAopIeGePXgcUCLJpKSHI8uFKwWUMvjpHyRxwFedB99913+f8fPXqUuXPnMnDgQBo0aIDVamXPnj0sWLBAxtAUgqoqXDBP88G26SzduxS7xc7opmPoXacP4UaMz052GWoS35/Yyqs/vMKZlDO0vaItj7d6ggrWqihG/oMyVVUlnlPM2jabRX98CsAd9QdwT+O7iaEShhEcJxpPVNsWedMNnae+e5wPf5sOwB3X3Mnr7d/BrpXs5e7DnCnYf92NNvl5OHoUs2lTQp56mtRqV+Is4e/d01RVISr+DOoH01GXLAG7Hdvo0ei9+5IY7rvzprhIUSAqJR7ts+Wo06dBRgbhffsSOmYcSWUq5Lt+l8fjKey07d69ezNy5Ei6d++eZfvGjRt5++23+fLLLz0aoKcFyvS8BOUsrWbfyLm0c1m2N6vUjKV9lhNm5F43KCdFmTLnVFOZtPUpZu76KMt2m2Zjy7BvuDq0fr5f5InqGbou7Mrh+MNZtteMqcm6QeuIMioU6n34S3GrbYvcKQrYI6D3J33Z+Pd6AJ684RkmNH2oxK/863A7CZs5HfWpp7I2KArGipUktmyHuxAn/dI+zTgm8SyWVi3h7Nks282mTXEt+4zEMO+fN8U/olLjsfbvi7JtW9aGcuVwb/2e+GjPnP8LOm270NeFjhw5Qu3a2e91V6tWjRMnThR2d6WTxWDKtnezJTMAO07tYNeZnaiq90/0FzLPZUtmADL1TMavGUcaeU9bttk0lu5dmi2ZATgcf5jl+5ZjswX+1NuCVNtWLMFxpSkQHU8+RqtZrdj493ocmoOZXedxf7P/lPhkBiAkOR510qTsDaaJOmY0oYnnfR1S0LIpBurUKdmSGQBl5060Hdt9ct4UF6mqgrZrZ/ZkBuDcOdT33sXm4+XRC53QNGvWjBdffJEzZ85c3nbs2DEmT55MmzZtPBpcSZWiJ7Bkz5Jc22f/Mgs07x4Imqay5eiWXNt3ntpJijspz33E63Es3bM01/bFfyzmgp49aQs4Bai2nawn+jCgkmPnme10WdKB387+RvnQCnzRaw231Orl77B8QlFAOXAA9FxqeJ04gZaY4NOYgpk9OfHibaZcaLNnYTWlXpqvWBUTbc7sXNvVxYtxpCT4LiCKMMvpxRdfZMKECbRv356oqChM0yQpKYkWLVrw/PPPeyPGEkdBwablPvA2xBKC4oPKs3mNXVBQstXp+jcVNc/3YbfYsRD4V2g8VW1bZLXi4Gfc+9VoMvQMGlZoyNyun1AlvJq/w/ItWz4D7GXxwIJTlDz70wwJubhYn+Q0vqEomA5H7udGu93nFdQLfYWmfPnyfPrpp6xYsYJJkybx7LPP8uWXXzJ79uxsqweLnEVqsYxoMjLX9tFNR2O4vXsg6LpB2+ptc02cOtfsTISW998zSotlRNMRubaPaDKCiHyqVAcCT1TbFv8wTZO3tr/GiPXDyNAz6HxFV767+zuqRpSuZMY0wahZExy5JMt16+KOjvZpTMEsIzIGY0Tu5xtj1GgyDfnp4SuZOhijcz9vGiNGkBHl2/NmgRKakydPcmns8MmTJzl58iRhYWE0bNiQhg0bEhIScnm7yJ/uNhncYDD1y9XP1ta/3h1cFX0NhRyrXSRRWhle7/xGtu1lQsrwZpe3sRkhOTzrH5mZOh2u6EDraq2ztbWu1pp2V7TH5Qr8n0v/W2373wpabVtc5NSd3LdpDC/9fPFq7eiG45jf41Mi7PkP6CuJUiPLoM+ec/Hqwv8KDUWfM5fUsGh/hBWUXLqJPnAQ5rXXZmsz+/bFdU1dn5w3xUWmaeK66hrMOwZkb6tfH33wUFyBOMupTp06bN26lTJlylCnTh0URcE0zSyD+i79e+/evV4NuLgCZTS7okCycoEfTmxl3q/zCLWGMrbZOK6JqUuIEVmk/RVltH6mmsaJ9KNM2/4+x5OP061Wd3rV7kWMWqHAa+Ikq+fYcXonc365eD/1rkZ306xiUyKMcoV+H/5U3Grbpd359PPcvXYQP576Hk3ReKnN69x17fBSP5PEoTsJPXMSZcYHqPv3Y7RujXHnIJJjK+A2C3dFobT3paJAZPIFtB9/QJs7BzMkBGPsOFx16pEc4rvzpvhHRHoS1v17Uae9j5KWhj50KPqNrUiK8Nx506PVtk+cOEHlypVRFCXfmUxVqlQpeJR+EGgHrqapuJVMVFTQtSL/wijOB1NRQLGY6IYbq1K06rcWi4pbu7iankX3bwXd4vBEte3S6M/4Awxa1Y+/ko4QYYvkoy5z6VC9EyBfGpfYNNBcmbhtDlxFPK6kLy/SNBWrOxNTVXEpWpHXiZL+9AxFUbCjExFqJd7p+fOmR6tt/2+S8sgjj9C2bVvatGlDvXr1ih6hAC6OZVGw/Lcys38+UaYJpktBwYq7iNPs3G4D3NaL/9/HU/U8yRPVtkubLcc2M3zdUJIyE6keeSULeyzmmtg6/g4r4GTqgGqTCtMeoOsGumK5eMqUTMTvTNPEqahEhIaip/nvvFnoWU633XYbW7duZfbs2WiaRqtWrWjTpg2tW7cmJqZwixoJIYLbvD9m8+g3D6GbOtdXvIG53T+hbEhZf4clhCiFCr1S8CWmabJnzx5++OEHtm7dyrZt26hbty5L8lgnIBCU1EuLcunUc6Qv86cbOs/+8BTTf5kCQO+r+/F2h6k5Tn+X/vQc6UvPkv70HG/2pUdvOf2bruv88ccf7Ny5k19++YUDBw5gs9mIjCz8oCwhRHBJcaUwbsMI1v61GoBHrn+C/1z3aKlY+VcIEbgKndAMGTKE33//ncjISBo1akSzZs0YPXo09erVy3chNhGYPFFt2xMMLZM0PRWLaiVMiSj0VGmLRSXJvECm4SRMC8duhBEktTGDxsmUEwxefQe/x/2KXbPzbsdp3H51X3+HJURQCrGA4/zFUg4ZZcqT7vZ9DCWpEnyhMxCLxYKiKMTExFC+fHkqVKhAhQoVJJkJUhlqEhtOrKbXsptpM78lD26+j9P635iq79aPMVWdU/pfPLj5PtrMb0mvZTez4cRqMtS8Sy/8rzQtnm/ObGTgZ3fQYV57Rq0ZwZ/pf+DS0rwYeenyy9lddF3agd/jfqVsSDmW3/alJDNCFIGqqpRNPEPYG69g6doFS9cuhL32EmUTz/j0uzTMmUr0T98S2r83jjYtCRt9DzFH9mPXnT6LwZOKNIbG7Xbzxx9/sG3bNrZv387u3buJiIjguuuu46WXXvJGnB5TUu+V+qvadnGpqsKfqX/Qdm4bXIYrS9uIJiN5ptVz2I2wPPfh1FL4YPf7TP52cpbtCgqf3fEZHSp3weks+E8fua+e3ZeHVjD+q5Gku9OpE1uXBT0WUz3yigI9V/rTc6QvPctf/Vkm8Qxqt25w6FDWhho1MNZv4HxUea/HEEyV4L1WbRsuXqVp1KgR7du3p02bNjRv3pzTp0/z448/FmV3wk+KW23bE9JIZtyasdmSGYCPdn3IBVf+xS2T9QRe+i57Im1icu+aeznrkhWsi8o0Td7d+Rb3rBtMujudjtVvYlXvDQVOZoQQWdltGspnn2VPZgCOHEFZugS73fs1vkpiJfhCj6FZuHAhP//8M9u3byctLY3rr7+eVq1acf/991OrVi1vxCi8QNNUthzOv9q2Qw33ahypehK7Tu/Ktf2bv7/hzqtr5rpqsarCH2f2oOdSZfd40nHiMy4QZfP+L56SJlPP5JEtD/LxvvkADG8wiudbvYxFLdJcAiEE4Eg4j7J4ca7tyuLFhAwYiDPMe3WQFAWUP/OpBJ+QAOHBVcOu0GemxYsX07p1awYMGECzZs2w5VdNVgSs4lbb9gRVyfuXiMOSe4yXH5PH+wDkC7gI4jMucM/aIWw9+S2qojK51cuMaDjG32EJEfxUNe8q7HY7pi/G0djyObdqwTcuttBn+i+++MIbcQgf+99q22YOKxRfrrbt5bHB4WoEnWt2ZsPhDdnaFBRaV2uTZ00pw4Cry1yNw+Igw52Rrb1euXpE2WII4sWLfe5wwkHuXNWPw4mHCLdGMKPLLG66oqu/wxKiREiLiME6ciTK99/n2G6OGEF6VJn/Li3tHaYJRo2aaCEhkJ6e/QF16uCOCr6FcoMvBRMeU9xq255gM0N5q8vbxIZkv7T5epc3iNTyv+QZpZbhg5s/QCHrOiih1lA+umUmMWpwFcn0p60nvqXbso4cTjxE1fBqfNl7vSQzQniQy6VjtmuH2aZNtjazVSvM9h3J9GIyc0lqZGzuleDnziU1PNrrMXhakVcKDlYldXaAP6ttF5eqKiSYZ/n8wOesPbSGqhFVGXvdOKqEVMdmhBZoHy4tlVMZJ5m+fRpHEo7QvEpzhjQcQnlLZQx34fL20jqT5JO9C3h4y/24DBfNKlzHnO6fUCG0QrH3W1r70xukLz3Ln/0Zm3wOdedOlDlzwDQxhw3DuO46LkT47geYXc8k7MyJfyrBt2qNceedJJepGFCV4D1abbskKaknAn9X2/YEi0XFZTrRVAuGq2irzlrtkGGkE6qG4XRKReOCMEyDF358lvd2vQXAbbV6826naYRYPHOFrrT1pzdJX3qWv/vTYlEJcV9c8yXd4r9zb6BXgvdo6YOTJws+7bVy5coFfqwIDJ6otu0JbreBghWjGFdbXU7QCMEpg2YKJNWVyr1fjWbV4RUAPNTs/3ik+ZOoityNFsLb3G6DZKz//Yf/zlklpRJ8gRKajh075lunxTRNFEVh7969HglMCOFdp1NPMWT1AH45twubauPNDu/R/5qB/g5LCCGKpEAJzVdffeXtOIQQPvTbuV8YvPoOTqWeJNYRy5zun9Ci0o3+DksIIYqsQAlNlSpV8n1MZmYme/fuLdBjhRD+s/bIasZsGE6aO5Wro2uzoOdiakTV9HdYQghRLIW+Ub5z505uu+026tevT926dS//16hRIwYNGlSoff39998MHz6cJk2a0L59ez76KPsy/Jfs2bOHfv360ahRI/r06cPvv/9e2NA9zmJRSVOSSFHiMS1FK5OqaAapSjxpSiJaEC5k5Em6NZ0EzpCqXcBqLXxfqKqCU00lRYnHrTmzzUYsCItFJZVETiWfQrGUrFGXpmny/u73GLZmIGnuVNpUbc/qPhtzTWZsiklEajwRaYlYLP45Nq1WlZjUC8QknCFCz2G9jILsQ4WI1AQiUhMowmHlEaqqEOZMJSIlnhB30Y5NT7CbbiJS4glPS/Lb37Sk0DSFcGcKESnxOIzMIu0jEI7NkqTQXTh58mSqVKnC9OnTCQkJ4b333mPixIlER0fz6quvFng/hmEwatQoYmJi+Oyzz3j22WeZNm0aK1euzPbYtLQ0Ro0axXXXXcfy5ctp0qQJo0ePJi3Nf5WU07RElh3+lJ6Lu9J2fiue+u4xznOSgo6lVFWFBOUML297nvYL2tLl007M2TeDVC3ebyc7fzE0F8fdB5mw4V46zG9Pn6W9Wfn3clK1CwXeh1NN4afz39L/8960mdeSMeuGcyRjP7pasBONokCqGs/svTPo8mknbpx5Iy//9DyJyllUNfj/IC7dxcNbHmDS909iYjKk3t182nMZUfbobI9VVYWYxLNEvPI8jvZtcXTpRNTsGUSn+vbYjEm9QNTK5Vj69MbSoT32CfdS9sQhQnKo+5UTRVGIST5P5NS3cHRqj6NTeyKnvEVM8vl8xwR6Upgzxe8VjS0KxF44RfjTj+No15qQnl2JWvYpUWmJPouhJInISCZq42pCbrsZR5uWhD94H7Gn/sKaSwmWf8vx2HzvTZ8fmyVNoadtN2jQgM8//5xatWoxZMgQRowYQbt27Vi7di0ffvghy5YtK9B+zp49y4svvsjkyZMJD79YL+jee++lbNmyTPpXwaylS5cybdo0Nm7ciKIomKZJ165dGTNmDL179y5M+B6ZUpauJjJm7SjWHFyTZXu4LZwf7/mRClr1fF8jQTlLq9k3ci4ta/HFZpWasbTPcsKMwq3S6O/ph0Vlsaj8kbyLjnM7ZitQObTRUJ5rO5lQPTrPfbjVDD76fTpPf/10lu0KCisHfknLcu3ynQ6ZqsbTd1lvdpzakWV7udBybL37B6LN4K0FlZARz/D1w/j2+NcoKExq+QJjGo3P9cQZk3gWS6uWcPZslu1ms2a4li4nMcz7x2ZUWgLWZ55CmTs3a4PVirlpEwn1m+T7N41OOY/1pk5w+HDWhho1cG3cREJEmUK8i6IJhIrGigIxZ46htbgBUlKytJnduuH84EOSQ6IKHENJUpT+DHWmEvL8JNQZH2RtsFrRt3xDQu1rMYy8dxadch5r55tyrLbtq2PT0wJh2nahr9CEhISgaRfr79SsWZP9+/cD0LBhQ44cOVLg/ZQvX563336b8PBwTNNkx44dbNu2jebNm2d77C+//EKzZs0un4AVRaFp06bs3r27sOEXm6LAX8lHsiUzACmZKTy1+Sncaj6/vCwGU7a9my2ZAdhxage7zuwsEVcFCiLRPM+ENRNyrLY975d5XHDG5buPJCOBZ7c8m227icmYVaNJMPKuGquqCttPb8uWzACcSzvH+9umoFiCczrjkcTD9FzemW+Pf02oJYx5PT5lbON7c01mbBioU97LlswAKDt2oO3c7pNj03ohLnsyA+ByoUyYQEQ+lYAtmor6xefZkxmAI0dQV3yOxQe3eAOhorHD5USd+GS2ZAZAWbsW69G/S91V4eJwXDiXPZkBcLnQxo8jNC0pz+dbNBVtxYpcq21rn38mtwOLqNC91qJFC9544w3OnDlDkyZNWL16NQkJCWzatInIyMgiBdGxY0fuvPNOmjRpQteu2ZdZP3fuHOXLZ/2FXKZMGU6fPl3o11KU4v1ntWos35v7VagVB1aQZqbkuY8UPYEle5bkuo/Zv8wCzSh0bJ54f77+L8Wdd7XtTUc2YbNpuT5fVeHA+f15VttOdMbn3W8Wg3m/5vDl+V+L9iwiWU/0e18V9r8fT31P92Ud+TPhAJXDq/Bl73V0q9E9z+c4UhJRl+R+bGqzZ2ND9+qxabNpsGlTrjGwaxdact5/D3taEtrChbm/j/nzsaclebX/VRWUA/lUNE5M8GpfKgrY01NQcriVf4myeDFWa+6fsZL+X2H602JRUb77Ns9j05qS93FlT0tGXTA/112oC+ZjTwm+801h+7Io+85PoYtTPvnkk/zf//0f69evZ8CAASxdupQWLVqgaVq2W0UF9e677xIXF8ekSZN46aWXmDhxYpb29PT0bFW9bTYbmZmFH4hVpkz+l63yE2LNfQVVq2bFZrVQNjL313Elp2DTcq+2GmIJISoytEhVoj3x/nwpLi7v9+iwOIiKyrv8gSMh76qxNqs1z8uVLt2Fw+LItd1useOwWykbETx9O/+X+YxYOYJMPZPrKl/HigErqBRRKf8nulLyrgQcEkJEZCgRVmuhYyrUsenI/e8BoFgseV+CTtDzrWgcGuYgNMbLf1NHPpXgbXkfm7kpVF9mJILVmmtipYaF5vsZK+kK1Z8hea+gne/ftCDHZniI949NL/Hnd1ChvzErVKjAvHnzLv97/vz5HDx4kMjISCpUKFrdlwYNGgDgdDp5+OGHeeSRR7IkMHa7PVvykpmZiSOfk15Ozp8v/v29vnX78fLWl3NsG9JgKHY9jLi45Fyf79AiGNF0JE9tnphj++imo0mMz6Aww5sU5eKB5In350thWgSdanTiqyPZ1zpSUGh/Zfs8+xKgRlTNPKtth6tRee5DURRGNR2d61WzkU1GYndH5BtHIDBMg5d/msxbO14HoGfNW3n/phlYnaHEOfOP3+qIIGLECNSJOR+b+qjRJCQ5Mc3sfZ2bohybZdq3R1EUcnqC2akT7vBIEvP4e2ialchx49FyqWisjxtPEjZ0L/9No66sgdXhgIwc+qtuXTLCI0kpRAxF6Uu7PZywwUNQP/owx3a9bz/ig+DY9oai9Gf0jS2x5HZs3nQT6SHhpOV3bI7P/dg0xo0n0QfHpqd58zvo0r7zU6QbdYcOHeLVV19lzJgxjBs3jlWrVuF2F27aclxcHBs3bsyy7aqrrsLlcpHyr3u9FSpUIC4u61iKuLi4bLehCsI0i/9fBUclHrjhgWz7rhZZjUdbPgpuS57Pd7tNBl87mPrl6mfbR/96d3BV9DUYhlnouDz1/nz5X6gRyVtd38qx2vaLnV4kyhKT7z4ilFhm3zo7x2rbc26dSxhReT7fMExqR9ehX73+2WKoX64+A+sPQncX/u/h6//SXOmMWnfP5WRmQpOHmNl1HiGW0ALvI9Ntog8ajFk/+7Fp9uuPq3YdnxybzqgYzJdeyv4Bjo2Ft94iKTTvv6nbbaC3boPZrl3299G2LXrrtrjdhtf/JqmRZXKvaDxnLqlh0V7vyww0jMceg2rVsvWFcf/9ZFSo5Pdj15//FbY/06NiMd54M8dj03j7HdJsYfkfm63aYLZvn+Ox6W7TzifHZiD0ZWH3nZ9Cz3LatGkTEyZMoEmTJlx77bXous7vv//Onj17+PDDD7n++usLtJ/du3czYMAAtmzZcvnKzueff84rr7zCDz/8kOWxS5cu5cMPP2Tt2rVcmuXUpUsXxowZQ58+fQoTvsdGYDvVFA4nH+T97VO5kH6BvnX7cVONzkRRNt8R7nDx/JasXOCHE1uZ9+s8Qq2hjG02jmti6hJiFH4skqIE5ywnuHhf+px+gqV7l7L5r81UDKvIuOvHUSWsGiF6VIH2oatOzmSe5IMd0zlw4QCtq7XmzmsHEatWwDQKdgM2XU1kf/xepu2YRporjaENh3JjlVZEmLEB36dn0s4wbPUAdp7dgVW18nq7dxhYd3CR9qUoEJl8Ae3H79HmzsUMDcUYMxZXnbpFmg1T1GMzKj0R64lj8P77KKdPY3boAH37kliuSoEL6EWmJWDZvQvtwxlgmuijRuNu3ISk0OhCv4+icuhOQs+c/KeicevWGHcOIjm2gs8qGquqQmRiHNrGDahLl2DGxmKMG09mzatIsYcX8h2VHEXtz1BXOo7jf6NOex/l+HGMrt0wevUiKaYCegHO//DfY/OX3WgzPrh4bI4chbtJU58em57kze+gS/vO93GFTWi6d+9O7969GTlyZJbt06ZNY926dXz++ecF2o+u6/Tv35/o6Ggef/xxTpw4wRNPPMGoUaMYNmwY586dIyIiAofDQUpKCp07d6Znz54MGDCATz/9lLVr17J+/XpCQwt379eTna0ogMXEMN1YKVqlVE1TcSuZqKigaxS1+HkwJzSX2O0a6UYqVtWO7izcif4SzQIuMxObYsftLnxHqKqCqemEhllxpph+q35bGHvO/8HgVf05nnKMGHsMs7stpGWV1sXer6apWN2ZmKqKS9EKlKjnpLjHZphmorqcZIaE4XQWvnKpqirYjItXkDNVS5HfR3EFQkVji0XF6nJiqBYyUYL2XOEpxe1Pu2qi6m5c1qKd/wPl2PSEQEhoCn3L6dSpU3Tq1Cnb9m7duhVq2ramabz//vuEhIRwxx138OSTTzJkyBCGDh0KQOvWrVm9ejUA4eHhfPDBB+zYsYPevXvzyy+/MGPGjEInM55mmlysUu22FvmLT9cNFLcF060WOZkpKZxOHdXlKHIyA6C7QdVtRUpm4OLtJ9wqodZQdD3wk5mNf6+j5/LOHE85Rs2oWqzp85VHkhm4eGxmKBacpurXE22qrpCsOoqUzMDFv2kG2sVbL358H5k6pKu2IicznuB2G6QrVpymJDOe4DQU0pWin/8D5dgsKQo9KLh79+589NFHPPvss1j/Z6bDkiVL6NGjR6H2VaFCBaZMmZJj26X1bS5p2LAhn332WWHDFaLE+ujX6Uzc+hiGadCqchtmdZtPjCP7WCQhhCgNCp3QOJ1O1q9fzzfffMO1116L1Wpl//79HDt2jEaNGl2+wgJkmQ0lhPAMt+Fm4nePMuv3i7NW7qwzhFfbvZXnUgBCCFHSFTqhqVmzJmPGjMmy7ZprrvFYQEKI3CU5Exm5/i42H/sKBYWJNz7LvY3vR+q/CCFKu0InNPfee6834ii1FM0gxUhEQSVCjQmKcRvCP/5O+ovBq/qzP34fIZYQ3r/pI3rWvMXfYXmVpimEpCajuF24QsPIUAt/FcqqgiM5AYCMiGhcQfoRs2gqIcnx4ErBZg3FWYRVN+ymG1tqMqaqkREZXeixH4qiEJKZhubMQLc7SLeF+mXsn00xsackgKKSHhnjl8H7mqYQkpaM4ir6sSk8q0jr0KxYsYLevXtz3XXXcezYMV544QVmzJjh6dhKNKm2LQpj2+mf6L6sI/vj91EhtCIreq0t8clMREYSURtWE9Lrfyoan/67eBWN/VBtu7gUBaJT44maMwNHl07QogXhLz9PTGLBK8F7otp2SGY6MXt2ETr0ThytbyR0yEBi/thJiCu9qG+t0HKuBP+BzyvBF7fatvCOQk/b/vjjj3n//fcZM2YMr732Gl9++SU7d+7kxRdfZMiQIQF/BSdQpjVLte3AFWh9ufzPJdy/aRxO3cm1ZRuyoMciKodX8XdYBVaU/gx1phLy3DOoH/7rh1JhKxr7udq2J0SlxmPt1wdl+/asDeXK4d76PfHRea/QrijFr7ZtxSBy1Weod9+drc34aCZJt/bBVbTfx4WSayX4pk1xLfvMJ5XgPVFtuyQKymnb8+fPZ/LkyQwePBhVvfj02267jVdffZUleRS1E/9Dqm2LAjBNk9e2vcSYDcNx6k66XdmDFbevDapkpqgcF85lT2bgfyoa570sfKBU2y4uVVXQdm7PnswAnDuHOnUKNvK+3eKJatthSedRJ0zIOcYH7ics6ULeO/AAm2KgTp2ScyX4nTvRdvimEnxxq20L7yn0J/rkyZPUqlUr2/Zq1aqRkJDgiZhKvIJW2xalV4Y7g7EbR/DatovL/49rPIHZ3RYSbi35q7pqmory7Te5P2DXLqwped8qsRWk2nZq4H/xWDHQ5szJtV1dtAhHSkKe+7AVoNq2xaLluQ81Lg6Sc0kiU1JQz2VPMjzNnpxfJfhZXr/lo2kFq7Yt/KPQCU2jRo2yrQZsmiazZs2iYcOGnoqrRFNQ8q22/e+6RKL0OJd2jj4rbmH5n0uwqBbebP8ek1pORlPz/tIpUex5V6k28+sLRc23orGpBv4VGhQFM68ivHY7Zn7nCkW5WG07N6F5V48GQMunv/Nr9wRFyfNvaoaEgNf/piamPe+iyEFxXJVQhe75iRMnsmzZMvr06UNmZibPPvssnTt3ZvPmzTzxxBPeiLHEidRiGdFkZK7to5uOxnBLQlMa7b+wj+7LOrLt9E9E2aP59OblDK43zN9h+ZSuGxit22Qv6PhfZufOZEbkXe/MGRKOPm587q8xbjzOkMC/2pVpKBijx+TabowYSUZU3ospZoRFYQwekmu72a8/LlfeVzb02DKQWzHgcuXQy5TN8/mekBEZgzFiRK7txqjRZBawbltR6bqJ2apV7sfmTTeRGV74emfCMwqd0NSuXZt169YxcOBAhg4dSs2aNRk+fDjr16+nbt263oixxNHdJoMb5F1tu7SXQSiNNh/9ih7Lb+Jo8t9cGVmD1b030rZqe3+H5RfpkXlUNH7rbdJtYXk+X9fzr7YdDEskmKaJ6+prMPvfkb2tfn30QYNx6XmfK5xK/tW285MaVQZ9wcfZr/RYLOgLFpIa5f2ExqWb6AMHYV57bbY2s29fXNfU9cl5M79q2+n2vI9N4T2FnuV0iWEYqKrK2bNn2bFjB3Xq1KFGjRqejs/jAmXmilTbDlz+6MvZv3/EE9/+H7qp06JSS2Z3W0iZkOCYhZOfIlc0zkzDceJo8Ssa+7natidEpCdh3b/3Yl+kpaEPHYp+YyuSIgpWCd4T1batpk5E3CmUWTNRd+/GaNwY857hpJStRKbim9uh/1SC/wFt7hzMkBCMseNw1alHcojvzpueqLZd0gTCLKdCJzQ7duzggQce4LXXXqNmzZr07t0bp9NJeno6r732Gt27dy9y0L4QaF/4Um078PiyL3VD55nvn2DGr9MA6H/NQN5o/y52Le8xJMFEKhp7hqIo2NGJCLUS7yxaJXhPVNu+VDVct9rJzOfqkLcESiX44h6bJUkgJDSFXin4pZdeokePHjRq1IiZM2dit9vZtGkTq1at4t133w34hCbQ6LqBgoWLf//gPNGKoknJTGb0hnvY8Pc6AJ644Wnub/qfoFr0zRechgKKFYpZ0fjiP4L3M2aaJk5FJSI0FD2faeu5cbsN3Iq1WKeaTB1QbeCnZAb+e0tRsVx8H378BVfcY1N4VqHH0Bw4cIBhw4YREhLCpk2b6NKlCzabjebNm3Py5ElvxChEiXM8+Rg3f9aVDX+vw6E5+KjLXB5o9rAkM0IIUUSFTmjKli3LwYMHOXjwIHv27KFDhw4AfP/991SqlP/gMiFKu51nttN1aQf2nP+dciHl+bzXam696nZ/hyWEEEGt0Lec7rrrLsaPH4+qqjRo0IDmzZszffp0pkyZwksvveSNGIUoMVYe+pzxG0eRoWdQN7Y+C3supmpE9tknQgghCqfQCc3QoUO5/vrrOXHiBK1btwagRYsWtG/fnjp16ng8QCFKAtM0eWfnG7z403MAdL6iKx90nkW4Lf+BbqJ4QizgOH9xJduMMuVJd/s5ID8KMzOxJcaDqpFWriJOZ+nsDEW5WBLCmpEGqgtVtaH7cUxQcTiMTKxpqZgWK+lhEUH7Pjyh0AkNQN26dbOsOdO4cWNPxSNEiePUnfzn6wks3v8JAKMajuXZli+WrpV//UBVVWLjT8GcOSifXOz7sDsGEHbP3VyIqYRhlJ6BnHYVIs4cgzfeQNmwASIjiRg3jvDuPTgfXjKWBygou55J2PEjqM8/j7JjB1SrRtTEp8hs1KTAU9gDgRWDiNPHUF9+CWXLFihfHtsjj+Bq1YZkR+GnsJcERV6HJliV1GnNMm3bczzZl+fTz3P32kH8eOp7NEXjxTavcfe1ua92WhL569gsk3gGtWvXHKttG+vXcz4q7yrVgagofamqEHviCEqrVtmrbd90E/qMGcSHe39hvECgaSpRP32D1rNnttlRxjOTSB09ngxL4C+ZoKoK0Qf3oLVtA5mZWdqMu+8h47nJpPo4OQuEadtSdEIIL/kz/gDdl3Xkx1PfE2GLZGHPJaUumfEXu01DWbYs12rbyrJl2G2l4wpZuDMVJk7Mudr2xo1of/3l/RJIASIs8Tza6NE5TvVWJz9PSHK8H6IqvNC0ZLRxY7MlMwDq7FnYL8T5ISr/KyWHsRC+9c3xr+mx/Cb+SjpC9YgrWNV7Ax2r3+TvsEoNR3wcytKlubYrixcTEl86TvrW1GSU1atzf8CSJdjteRSvLEG0xAQ4diznRl1H2bs3KJZOsKYmwc6duT9g82Y0rfR9vZe+dyyEl83fM4cBX/Ym0ZnAdRWas6bPJurESp0zn9JKSLVtT8iv2nZe1bxLGks+f3O7nWBY4NRU1VwLZAIoIQWooF4ClZJPtBDepxs6z2x9kv98PQG34ab31f1YftuXlAst5+/QSp20iFjMPCozmyNGkBaZd5XqksIZGYs5YEDuD7jjDtLTXb4LyI/ckTFQP3tRYAAcDoyrrgqKMYiZEVGYnTvn3KgoGG3aBEXxVU+ThEYID0hxpXD32kFM++U9AB65/gmm3fQRDksp+vUbQFwuHbNde8z/Li3xv8xWrTDbtcfl0v0Qme+lKFZ4/Ikcq22bY8fiKkC17ZIiNSwKffYcCPtXRWxFwZg5i7SI4Ehy060hGG+9DWWyz1AzXnuN9KjSNXPtkiJN2xZC/ONkygkGr76D3+N+xa7ZebfjNG6/uq+/wyr1zkeUJXbuXNQdO1HmzgHTxLzrboxmTbkQUbqumiWUq0zUpk0oa9eirFiBGR0NY8ag17qKxNAYf4fnM4ZhklSjNhE7d6F+/DHqd99C7droo0eTVqEKmWpwfCWaJiRWrE7kTz+jfvE56po1mFWrYowdS0aVK8iwls4fUjJtu4SQadueU5i+/OXsLoasGcDp1FOUDSnL3O6fcH3FG3wTaJDw97FpsaiEuJ0ApFuCuypysatD2y3Y0i8uwpaGSilaiicbq0XB4nISHhtFXEJ60J43L1dQ1yxkmkWroO4JgTBtOzjSUSEC0KrDKxm/cSRp7jTqxNZlQY/FVI+8wt9hiX9xuw2S+e+g2CBOZjzB6XTjVO1QursBAJfbxK3aCLcE99fg5Qrq8jeVMTRCFJZpmry3623uWTuYNHcaHap14svb10syI4QQfhTcqakQPpapZ/LIlgf5eN98AO65diSTW7+CJUjuvQshREklZ2EhCig+4wLD1w3luxPfoCoqk1u9zIiGY/wdlhBCCCShEaJADiccZNDq/hxKOEiYNZwPu8zmpiu6euW1FEUhJDMNzZmBbneQbgullI3dv0zTFEJSk1HcLlyhYWSoeSyW50URejqW5CSwWkmJLovL5fsBCxZNvbg0vysFmzUUp4wYECIL+UQIkY/vT3xH92WdOJRwkKrh1VjVe4PXkpkQVzoxe3YROvROHK1vJHToncT8sZMQV7pXXi+QRWQkEbVhNSG9bsbRpiXhD95H7Om/sZq+Wz8mxHBR9sQh7Pffh6VDeyx9ehO1cjmxqRd8FoOiQHRqPFFzZuDo0glatCD85eeJSTyLqgb+Mv1C+IpM2y4h/D01tiT53778eM8CHt5yPy7DRdPyzZjb41MqhHqnSrMVg8iVy1GH35OtzZg5i6RbeuMKwt8gRTk2Q52phDz3DOqHM7I2WK3oW74hofa1GIZ3D3SLRSV6z26UDh3AlXUlXXPIEFzPv0BiaLRXYwCISo3H2q8PyvbtWRvKlcO99Xvio4OvanigkPOm5wTCtO3gOzsK4QOGafDcD89w/+ZxuAwXt9XqzWe9VnstmYGLlYDV+yfk2KbeP4GwxPNee+1A47hwLnsyA+ByoY0fR2hastdjiEiMQ5kwIVsyA6DMn4/VBxWNVVVB27k9ezIDcO4c6tQp2GS+rhCAJDRCZJPmSqPfkn68t/MtAB5q9n980GUWIRbvFnxT485BSkrOjSkpF9tLAU1TUb79JvcH7NqFNSXR+3GkJOdd0firr7DZNK/GYMVAmzMn13Z10SIcKQlejUGIYCGDgoX4H6dTTzFk9QB+ObcLm2rjzQ7v0f+agb55cS2fL8f82ksSuz3PZlP1QV9o2sVr3bldP3c4vH+bQlEwHQ5yHSljt2Pm3ipEqSJXaIT4r9/ifqXb0o78cm4XZULKsPS2Fb5LZgC9TFkoXz7nxvLlL7aXArpuYLRuczGZyIHZuTOZEZFej8MVHonZqVPOjYoCHTp4vcBlpqFgjM59aQBjxEgyooKjoKIQ3iYJjRDAur/WcMvyrpxMPcHVMbX5acRP3Fi5pU9jSI0qg75gIVitWRssFvT5C0gtRRV00yNjMd54M3tDbCzGW2+TbgvL3uZhyaGR8OabOVY0Nl94AacPEgnTNHFdfQ1m/zuyt9Wvjz5oMC5dRrMKATLLqcSQ0fpFY5om03+ZyqTvn8TEpE3V9szqOperqlb3S19aTZ2IuFMos2ai7t6N0bgx5j3DSSlbiUwlOG85FfXYDM1Mw3HiKOq091GOH8fo2g2jVy+SYiqge3mG0yVWq0bU2eOwdCnK5s2YFSvC2LG4qlYnMSTKJzEARKQnYd2/92JfpKWhDx2KfmMrkiJi5fNeDHLe9JxAmOUkCU0JIR/MwnPpLh779mHm75kNwJB6d/Nym9exWax+70ubBporE91qJzPIf4EXu0K0aqLqblxW/1XKtts1bOmpGFY7qbp/xqwoioIdnYhQK/FOM6irhgcKOW96TiAkNDIoWJRKic4Ehq8bxjfHN6OgMKnlC4xpNB4ll3EbvpapA6oNgjyZ8QSnoYBi9WulbKdTx6k6wHdr+mVjmiZORSUiNBTdB9PWhQg2ktCIUudI4mEGr+rPnwkHCLWEMb3zTLrV6OHvsIQQQhSDJDSiVPnx1A/ctWYgFzIuUCmsMgt6LqZB2Yb+DksIIUQxySwnUWos2f8pfb+4hQsZF2hUrgnr+m6WZEYIIUoIuUIjSjzDNHj15xd4c8drAPSseStTOn1AmNX7U39LM0UBh8uJNSMNVBeqakP3w5ggqwqO5AQAMiKiKUqhbIeRiTUtFdNiJT0swi/vQwiRN7lCI0q0dHc6o9ffczmZua/Jg8zsOk+SGS+z65nEHNlP2Jjh2Nu0hJ49ifrhG8KcqT6LQVEUYpLPEzn1LRyd2uPo1J7IKW8Rk3y+wIO/raZO7Om/CX9oAo42LQnpdTNRG1YTkSGDcoUINDJtu4SQ6YfZnU07y7A1A9hxZjsW1cIb7d5lYN3B+T5P+rJ4LBaVqO+3oN5yc7ayAcazz5I6ahwZWt6lDTwhOuU81ps6weHDWRtq1MC1cRMJEXkvVKiqCtEH96C1aZ2tQKUxfATpk54nze7bxFiOTc+S/vScQJi2LVdoRIm05/wfdFvagR1nthNtj2bJLV8UKJkRxReaEIc6ZnSONZDU554jJCne6zFYNBX1i8+zJzMAR46grvgci5b36S80LQlt3Ngcq22rMz/CcaF0FAsVIlhIQiNKnI1/r6Pn8s4cTzlGzaharOnzFa2qtPF3WKWGlpgIx4/n3KjrKPv25VamyWNsaUloCxfm2q7Nn489NSnPfVhT8662rWz5Gi2fpEgI4TvyaRQlyke/Tmfw6jtIdaXQsnJr1vT5ilrRV/s7rNLFks9pJZ9K2h6hqGCz5RmDqeYdp6lquRbIBMARUsTghBDeIAmNKBHchpvHvvkPT3z3CIZpMLDOYBbf8jkxDqlE7GvuyBioVy/nRocDo1Ytr49XcIaEo48bn2u7Pm48zpDwPPeRGR6J2blzzo2KgtG6Dbou5QeECBSS0Iigl+RMZPDq/sz6/UMAJrZ4lrc7TMWm5fELXXhNalgU+uw5EBqatUFR0GfNJjXC+0mmrhvordtgtmuXrc1s2xa9ddt8k5F0WwjGm2/nWG3beO110qNLT/VzIYKBrEMjgtrRpL8ZvLo/+y7sJcQSwtROH3JzrVv9HVapZhgmSTWvIWLXbtSPF6J+9x3Uro0+egxpFSrjUn1z2kkMjSZy7nwsu3ehfTgDTBN91GjcjZuQFBqd7/NNExIrVSfyp59RP/8cde0azKpVMcaOI6NKdTIsPrh1JoQoMJm2XUKUxumH207/xLA1dxKXfo4KoRWZ3+NTGpdvWuz9lsa+9BarRcHichIeG0VcQrpf+lNVFWyGG4BM1YJhFD4Ii0XF6nJiaJaLxTL9RI5Nz5L+9JxAmLYtV2hEUPrsz6VM2DQWp+7k2rINWdBjEZXDq/g7LPEvLreJW7URbvHfqcYwTDLQ/vuPop1p3W4Dt2IFGTIjRMCSMTQiqJimyevbXmb0hntw6k66XdmDFbevlWRGCCFKOblCI4JGhjuDBzffy7I/FwMwttF9PH3jc2iq5ufIhBBC+JskNCIoxKXHMWzNQLad/gmLauGVtm8ypN5d/g5LCCFEgPBrQnPmzBleeOEFfvzxR+x2Oz169OChhx7CnsPCW2PHjmXTpk1Ztk2fPp0OHTr4KlzhJ/sv7GPQ6v4cTfqLSFsUs7rNp23V9v4OK1d2040tNRlT00gPjy61a5V4otq2pimEpCajuF24QsPIUGUqfrDTNJWQlAQUXSczLAKnIr+rhWf47UgyTZMJEyYQGRnJwoULSUxM5IknnkBVVR599NFsjz906BCvvfYaN9544+VtUVFRvgxZ+MHXxzYxfN1QkjOTuCLySj7uuZSrY2r7O6wcWRSIjDuJ8tabqKtXQ1QU9gcexN2lK4khpetYteuZhB07gjr5eZQdO6BaNaImPoWzUVNSC1jQMSIjCev3W9FefQXOnMHeti2hjz9BcoWquBS5zRiMotITsWxYj/r2W5CQgK1bd8L+8x+SylbGLbOMRDH5bdr2oUOH6NGjB1u3bqVs2bIAfPnll7zyyit8++23WR6bmZlJ48aNWbVqFTVq1CjW65bU6XklcfrhnN9n8vi3D6ObOjdUupE53T6mTIj3FzMrSl8qCsScOYrWogWkpGRpM7t3xzn9Q5JDIr0QbeDxRLXtUGcqIc89g/rhjKwNViv6lm9IqH1tkaZfB7tg/pxHpCdhHzcaZdWqrA3h4eg//Eh8xeo+f0/B3J+BJhCmbfttllO5cuX46KOPLiczl6T868sA4PDhwyiKQrVq1XwVnvAj3dB56rvHeOSbB9FNnX61B7D01hU+SWaKyuFyok6cmC2ZAVDWrMF69C+vF2QMFJ6otu24cC57MgPgcqGNH0doWrInQhU+oihc/Az8O5kBSElBnfgkDpfT94GJEsVvt5wiIyNp0+afCsiGYbBgwQJatGiR7bGHDx8mPDycRx55hJ9//pmKFSty33330S6HZc3zU1K/VC69r2B/fymZyYzeMJz1f60F4PEbnuLBZg+j+PCNFaUv7ekpKCtX5r7PpUuwPtsEl0svZnSBryDVttVWFXP9FadpKsq33+T+Art2YU1JRMmnFlNJFKyfc6tVQ1m+LNd2ZeVK7G8mkxHp29WXg7U/A5E3+7Kg+wyY0VivvfYae/bsYenSpdnaDh8+TEZGBq1bt2bUqFFs2LCBsWPHsmjRIho0aFCo1ylTJv/LVsEsmN/f0cSj3Lb0Fn498ysOi4O5vebSv35/v8VTqL5MTwCrFfScExY1NJSoqNAc20qcc9Y8m7UQR/5963Dk2WyxWQt0CbqkCsrPeUge1cmtVqxWi9/+pkHZnwHKn30ZEKUPXnvtNWbPns1bb71F165ds7UbhkFycnKWQcBjxoyhXLlyPP/884V6rfPnS+a9UkW5eCAF6/vbeWY7g1cN4Fz6WcqFlGd+j09oVvF6v8RSlL60m27CnngU9aMPc2zXd+wkvvpVHowycIWnJeHo3gX27Mne6HDg+u13EqPL57mPmLiTaPXq5njbyuzcmfQ580mzlZIE8X8E8+c85uhBtGY5lyYx7hlO6suv+XzGUzD3Z6DxZl9e2nd+/H6F5vnnn+eTTz7htddeyzGZAVBVNduMppo1a3Lw4MFCv55p5niOLDGC8f2tPPQ54zeOIkPPoG5sfRb0XES1CN8PEPy3wvRlBhZCHn0Mdd1aOHYsS5vxwANklK/k9/fjK6lhUVhnz0Hr0B7S0v5p+J9q2/n1RVpkLGFvvIn60INZG2JjMd56mzRbGAHwW8xvgvFznlG+EiEPPYT65ptZG6pVw3j8cTKwgJ/eUzD2Z6DyZ1/6NaGZMmUKn376KW+++SbdunXL9XGPPfYYiqLw0ksvXd62b98+atcOzOm7omBM0+SdnW/w4k/PAXBT9S580GUWEbbgnA2UGFOeyK+3oG3cgLp0KWZsLMa48WTWvIq0Ak5VLgk8UW07w+pA7T8QR6tWqNPeRzl+HKNrN4xevUiKqYBZCmc4Bbs0exjqgw9j63U76tQpKBcuYPTpg965C0lR5YpcZ0uIS/w6bfuWW25h1KhRDBo0KEtbuXLlOHfuHBERETgcDtavX89DDz3E5MmTadKkCStXruTDDz9k1apVVK1atVCvW1Kn5wXb9EOn7uThr+9n0f6PARjZYAzPtnoRSwG+7LytuH15uTKzaiETJSj+Ht7iiWrbdtVE1d24rHbc7tK5SOElwfY5z4migA0DVddx2fz7Ny0J/RkoAmHatt++Pb766it0XWfatGlMmzYtS9v+/ftp3bo1L730Er1796ZLly4888wzTJs2jZMnT3L11Vfz0UcfFTqZEYHhfPp57l47iB9PfY+maLzQ5lXuuXakv8PymMuVmeUE6ZFq205DAcUKpTyZKSlME5yooKryNxUeFRCDgn2ppGbiwfJL42D8n9y5qi9/JR0hwhbJh13m0LH6Tf4OK4tg6ctgIf3pOdKXniX96Tml+gqNKH2+Pb6Fe9YNIdGZQPWIK1jQczF1Yuv6OywhhBAlgN9WChaly4I9c7njy9tJdCZwXYXmrOmzSZIZIYQQHiNXaIRX6YbO8z8+w/u73wWg99V9ebvD+zgseS+cVhSqqhCSnoLqysTtCCXDapfLyH6kqhDuTMWSmgKZyVhCo3C5ZMyEEMI75AqN8JpUVyp3rxt8OZn5v+sfZ9pNM72SzIQ5U4j+6VtC+/fG0aYlYWOGE3NkP3Y90+OvJfIX5koj9s8/sI0acXE9mj59iPp6A9FpCX6OTAhRUskVGuEVp1JOMnj1HfwW9wt2zc47Hd+n99X9vPJaDncGjtkfoT799OVtyokTaCtXEr7yS/SW7Ur9dF9fststhHz/I8rtt/+zwtaJEyi3347lyScJH3cvKdbSsy6PEMI35AqN8Lhfz+2m67IO/Bb3C2VDyrLs1i+9lswAhCQloD77bPYG00QdM5rQhPNee22RXdjZEyj33pvjcqHKyy/jSMy/2rYQQhSWJDTCo1Yf/pJbP+vG6dRTXBNThzV9NtG80g1eez1FAWX//lyLQnL8OFqCfIH6kpqQkGe1bf74A1XOPEIID5PTivAI0zSZsusd7l47iDR3Gu2rdWRV7w1cEXml91/cbsu73aJ5Pwbxj/wW0cunkrYQQhSFJDSi2DL1TB76+j6e++EpTEzuvnYEH/dcSqQ9Kv8nF5NpglGrVu5fkvXq4Y6K8Xoc4h96ZDTUq5dzo8OBefXVGDKkSQjhYZLQiGKJz7jAgC97s3DvPFRF5YXWr/Bymzd8WpMpNSIWffbsi/ef/ldoKPqcuaSGeT+xEv9IjimH+dFHEBqatUFRMKdPJy2qjH8CE0KUaDLLSRTZ4YSDDFrdn0MJBwmzhjOj8yw6X5l71XRvcakW0trfROiu3SgfTEc9cACjdWuMOweRHFsBQ6r4+pTbbZBcux4R27fD/PkoP/8MNWpgjhlLRqXKpGt2f4cohCiBJKERRfL9ie+4e+0g4p3xVAmvyoIei6lf9lq/xZOh2cmoXAPb5FfQXJm4bXZcblMKRPqJ01Bxlq1KyGNPYklLxRETxfnkTFnoUAjhNXLLSRTap/sW0m/lbcQ742lavhlr+272azLzvzJ1SFdtF5MZ4XfpToMUSwjY5aqMEMK75AqNKDDDNHjxx+d4d9ebANxa63be6zSdEEuInyMTQghR2klCIwokzZXGvV+N5svDXwDwYLOHebT5RFRFLvIJIYTwP0loRL7OpJ5myOo72H1uF1bVypvt3+OOOnf6OywhhBDiMklogpyigEt1kmGkoaa7UFUbuu658SO/x/3G4FX9OZl6glhHLHO6fUyLyi09tv9AY7GohCTFgysFmy0Mp6nk/ySRI0UBh8uJNSMNVM8fmyI4aZpKSEoCiq6TGRaBU5GvIeEZcr8giOlqJkcy9jNm3XDazGvJzR/fzI9x3+JUUzyy/3V/reHm5V04mXqCq6Nrs6bPphKbzCgKRKfGEzV7Bo4uneDGGwl/+XliEs+iqpLUFJZdzyTmyH7CxgzH3qYl9OxJ1A/fEOZM9Xdowo+i0hOJ/mwRIT274WjbivAnHyX2/Eks8hETHqCYZumaSBkXl1wipo5qmsIPcd9wyyc3Y/5rbvJz7Z9jxLVjsRhFm1limiYf/DqVZ7Y+iYlJm6rtmdllLtGOkrviblRqPNa+vVF27MjaUK4c7q0/EB9d3j+BBSGLRSXq+y2ot9ycrUCl8eyzpI4aR4asRVMkigJly0YE5XksIj0J+7jRKKtWZW0ID0f/4UfiK1b3+XsK5v4MNN7sy0v7zo9coQlSicZ5Rn85KlsyA/DslmdJNopWkNGlu/i/LQ/y9NYnMDEZUu9uPu25rEQnM6qqoG3flj2ZATh3DvX9KdgUWau/oEIT4lDHjM6x2rb63HMXb+mJUkVRwHr0r+zJDEBKCurEJ3G4nL4PTJQoktAEqYTMBE4kn8ixTTd19l/Yn60SQH4SnQncuaov8/bMQkHh2ZYv8nq7t7FqVg9EHLisGGjz5ubari5ahD050YcRBTctMTHPatvKvn2FPjZFcLNYNJTly3JtV1auxJ6e7MOIREkko7GClEXNu4K0XcunAvW//JV4hMGr+3Mgfj+hljCmd55Jtxo9ihNi8FAUTIeDXL9j7XZybxTZWPL5nSSL7JVOeVVZt1ox5UMmikmu0ASpKGs0dcvWzbEtxBJCzehaBb6P+dOpH+m+rCMH4vdTKawyK29fW3qSGSDTUDBGjc613Rg5kozIWB9GFNzckTF5Vts2ahX82BQlg8ulY/btl2u7MWgwzggpIiuKRxKaIBVGNHNunUuoNWtFYwWFWbfOIkIp2Bfw0gOL6PPFzZzPOE+jck1Y13czDco18kbIAcs0TVy162D265+9rX599IGDcMl04wJLDYtCnz0nx2rb+qzZpEZIclgaZZSvhPHQQ9kbqlXDePxxMuSGgSgmmeUUxBTN5IJ+ho9/X8h3x77jmjLXMKrpaCrYKqPlM8PJNE1e2fYCb25/FYAeNW5h6k0zCLOG+SL0gBSRnoh1/17UadNQ0tLQhw5Fv7EVSRGxJeaY8RWLYhJx4QzqxwtRv/sOatdGHz2GtAqVZYZTMQT7rJxwZwq2I4dQp05BuXABo08f9M5dSIoqh2H4/g0Fe38GkkCY5SQJTQlgsSi4cBIbGUVCfHq+7y/dnc79m8by+cHlANzX5EGebPGMlDHg4ownm6kTEWol3mnidsvspuKwWhQsLifhsVHEJeR/bIq8lYQvYEUBGwaqruOy2f36GSsJ/RkoAiGhkWt8JYDbbaIqNixa/n/Os2lnGbZmADvObMeiWni93TvcWXeID6IMDoZh4lRUIkJD0dNk1kVxudwmbtVGuEVONeIi0wQnKqgqyA8G4UFylilF9pz/g8Gr+nM85RjR9mhmd1tIqypt/B2WEEIIUWyS0JQSX/29npHr7ybFlUyNqJp83HMJtaKv9ndYQgghhEfIoIlS4KNfpzNodX9SXMm0rNyaNX2+kmRGCCFEiSJXaEowt+Fm4nePMuv3DwEYUGcQr7d7B1shF90TQvifRVMJSf5vJXhr6MVxKD6mKAohmWlozgx0u4N0WyilbF6JCGByhaaESs5MYvDq/peTmYktJvFOh/clmREiyFyuBD/nv5XgW7TwSyX4kMx0YvbsInTonTha30jokIHE/LGTEFe6z2IQIi9yhaYEOpr0N4NX92ffhb2EWEKY2ulDbq51q7/DEkIUQWRKPJZ+fVC2b7+8TX3jDdR584ja+j3x0RW8HoMVg9ANq1HvvvvyNuXkSbRNmwj9aCbuW/vgkt/Hws/kCCxhtp/+mW7LOrLvwl4qhFbki15rJJkRIkipqoK2c3uWZOayc+dQp07BhvenPoclnUedMCHHNvWB+wlLuuD1GITIjyQ0Jcinv39Kr897Epd+jmvLNmRd3800Lt/U32EJIYrIioE2Z06u7eqiRThSErwehxoXB8m5rMuUkoJ67qzXYxAiP5LQlACmafL6tpcZuGwgTt1J1yu7s+L2tVQOr+Lv0IQQxfHfSvC5stt9U6Va04rXLoQPSEIT5DLcGYzbOJJXfn4RgLGN7mVOt48Jt4b7OTIhRHFlGgrG6DG5thsjRpIR5f1in3psGShfPufGcuXQy5T1egxC5EcSmiAWlx5H3xW3suzPxWiKxgc3f8BzrV9EU+XXkhAlgWmauK6+BrP/Hdnb6tdHHzTYJ5XgU6PKoC/4GKzWrA0WC/qChaRGSUIj/E9mOQWp/Rf2MWh1f44m/UWkLYpZ3ebRp8mtxMVJ/SEhSpLkkEh47Q2sI0agTns/WyV4fLAMjNuA5EbNiNj9C8qsmai7d2M0box5z3BSylbC7YdK2UL8myQ0QejrY5sYsW4YSZmJXBF5JQt7LOGaMtf4OywhhJckh0T+f3t3HhdVvf4B/DPsyuYCrhQiCKkIjuKK9FMkF+iW4hL8kFxDryVpaUSSkOj1Bml2AU3UX66BosQVwT01tXIBXFFEQAU1FgME2WfO7w+vc51YR0eGkc/79eL14pzznXOeeXzoPJ0VIvFQ6EYOgmFbbTx6+ib4ZuwjqkWa+NPUDDpfBEKzugoSbV1UNcPRIaKm4iknNbPl6mZ47p+ER1XFGNJ1GA5OOg7rDmxmiF51giA8eTpw27aQSFT3luoqCVCuocNmhlocHqFRExKpBEG/LsWGy+sAAJOt38O3o8Khq6mr4siIiIhUjw2NGiitKsG8I7Nx+M5BAMDngwOwaOASiETN99hzIiKilowNTQt3ryQHXolTkfrwKvQ09RA2+nu8a+Wu6rCIiIhaFDY0LVhKbhK8D3ggrywXJm1Msd01GgM7D1J1WERERC0OG5oWKj4jDh8dm4vymnL07tAHO9x24zXD11UdFhERUYvEu5xaGEEQ8F3Sasw+9D7Ka8ox+vW3sN/9MJsZIiKiBvAITQtSJanCpyd8sSvtRwDAnH5zsdxxFbQ0+M9ERETUEO4pW4g/Kx5i5sFp+O3+GWiKNLFixNeY3c9H1WERERGpBTY0LcCtwnR4JU5BVnEmDHWMsHHMFji/7qLqsIiIiNQGGxoVO33vF8w8OA3FlUV43dAcO9x2440OvVUdFhERkVrhRcEqtDN1G6bGT0BxZREcOg/GgUk/s5khIiJ6DjxCowJSQYrg3wIRcfE7AIB7r8lYO2od9LT0VBwZERGRemJD08weVz/G/KMf4EDWfgDAYofPsWSQP19jQERE9ALY0DSjB6X34X3AA5fzL0JHQwffOa/DJOupqg6LiIhI7bGhaSaX8y9iWuJ7+OPxA5i0McGWcVEY3HWIqsMiIiJ6JbChaQaJmfsx/+gclNWUwab9G9jhthvmRj1UHRYREdErg3c5vUSCICA85TvMPOiFspoyjHzNGQnuR9jMEBERKZlKG5rc3Fz4+vpi8ODBcHJywqpVq1BZWVnn2NTUVEyZMgX29vaYNGkSrl692szRKqZKUoVPTizA8t++hAABM/rOxo9ue2Cka6zq0KgBWloaMHhcDDx4AB2RoOpwiIioiVTW0AiCAF9fX5SXl2Pnzp349ttvcfz4caxdu7bW2LKyMvj4+MDBwQGxsbEQi8WYO3cuysrKmj/wJiiqKITHfnfsvL4NGiINrHD8J75+cw3fydSCiURAu8eFMP4hEnpjRgPDhsHgn8FoX5wHDQ3egUZE1NKprKHJzMzExYsXsWrVKvTq1QsODg7w9fXF/v37a41NTEyErq4uPvvsM1haWmLp0qXQ19fHwYMHVRB5wzKLMzA+djRO3/sF+toG2D4+Gj7283lbdgtnVFoIrcnu0Pj0E+DmTeDOHWh88w20hg+D8Z+5qg6PiIgaobKGxtTUFJs2bYKJiYnc/NLS0lpjL126hIEDB8qaApFIhAEDBuDixYvNEWqT/Xb/DMbvcUZG0S10NzDD/omH8VaPcaoOixqhoSGC5oXzECUl1V6Ynw+NdeHQEUmbPzAiImoylZ0DMTIygpOTk2xaKpVix44dGDp0aK2x+fn5sLKykpvXsWNHpKenK7zdl3WgJPrGTnxy3BfV0mqIOw3ANtdodNHv8nI2Voen34sHghSnAyk0t22td7nGrl3Q812EasP2zRjVq4O1qTzMpXIxn8rzMnPZ1HW2mIs6QkNDkZqaij179tRaVl5eDh0dHbl5Ojo6qKqqUng7HTsaPneMdZEKUgT8HIBVp1cBACb3mYytE7airXZbpW6nqZT9/VqF6mpAr4HXTujqQldPG7omzO2LYG0qD3OpXMyn8qgyly2ioQkNDcXWrVvx7bffwtrautZyXV3dWs1LVVUV9BraCdXj4cMSCEq6eaWsugwfHZuH+Iw4AMCigYvx+ZAAlBVLUIYS5WykiUSiJ4WkzO/XWohEIrTzmQvNmJg6l0s/+AAluoaoLmjef9NXBWtTeZhL5WI+ledl5vLpuhuj8oYmODgYUVFRCA0NxdixY+sc07lzZxQUFMjNKygoQKdOnRTeniBAKcnOffwH3j/ggZS8ZGhraGPNyDC898b/yrahKsr6fq2JIAiotn4DGlOmQhSzW35Z376QeHqhSsKkvijWpvIwl8rFfCqPKnOp0ufQhIeHIzo6GmvWrIGbm1u94+zt7ZGSkgLhP1kSBAHJycmwt7dvrlDlXC24gnF7nZGSl4wOeh2w9514WTND6qmkjREqv1kNyeHDECZOBMaOhWTnTlTHJ6DYsIOqwyMiokao7AhNRkYG1q1bBx8fHwwcOBD5+fmyZaampsjPz4ehoSH09PQwbtw4rF69GitXroSHhweio6NRXl6O8ePHN3vch28fwNwjs/G4uhRW7Xphh9tu9DS2bPY4SPlK2hhDY8Aw6EQOhmFbbTyqFFBTIwX4f25ERC2eyo7QHDt2DBKJBOvXr8eIESPkfgBgxIgRSExMBAAYGBhgw4YNSEpKgru7Oy5duoTIyEi0bdt8F94KgoANlyLw/gFPPK4uhVP3/0Gi+1E2M68YqVRAJTSAtm0hkfBWbSIidSEShNZ15rCgQPELlqol1fji9GfYem0zAMC7zwz802k1tDW1X0KEz0ckAkxMDJ/r+5E85lK5mE/lYS6Vi/lUnpeZy6frbozKLwpu6YorizDn0HSczDkOEUQIHL4Cf7f/iE/+JSIiakHY0DTgdnEWpiVOxc3CNLTVaov1b23GeIv6L14mIiIi1WBDU4+zD37HjAOeeFjxEF31u2GH6y70M1XNXVVERETUMDY0ddhzcxcW/vwhqqRVsDPtj+3jo9HVoJuqwyIiIqJ6sKF5hiAI+Pr8Sqy5EAIAGG/xNta5bIS+tr6KIyMiIqKGsKH5j/Kacnz8898RdysWAPCReCEChgZBQ6TSZw8SERFRE7ChAZBXlofpBzyRlHseWhpaCH1zLbz6vK/qsIiIiKiJWn1Dc/1hKqYlTkV2yV20022H/xu3AyO6v6nqsIiIiEgBrbqh+fnuEcw5NAOl1SWwMO6JH91iYNmul6rDIiIiIgW1uobm6fPwqiXVWHR8AUQiYLT5W1jvshHt9dT3JYRPvxef9/fimEvlYj6Vh7lULuZTeV5mLpu6zlb36gMiIiJ69fAWHiIiIlJ7bGiIiIhI7bGhISIiIrXHhoaIiIjUHhsaIiIiUntsaIiIiEjtsaEhIiIitceGhoiIiNQeGxoiIiJSe2xo1JCPjw8+//zzepe/8847sLGxkfu5efNmM0bY8h05cqRWjnx9fesc++uvv+Ltt9+Gvb093n//fWRnZzdztC2fIvlkfTasqqoKX331FQYNGoThw4djzZo1qO+B7qzNximST9Zm/WJjY2vlxsbGBm+88Uad41VRm63uXU7qLiEhASdPnsTEiRPrXC6RSHD79m3s2LEDPXr0kM1v3759M0WoHm7duoVRo0YhODhYNk9XV7fWuPv37+PDDz/EggUL4OTkhIiICMyfPx/79u2DiC+AkWlqPlmfjVuxYgXOnj2LzZs34/Hjx1i0aBG6desGDw8PuXGszaZpaj5Zmw1zdXWFk5OTbLqmpgbTp0/HyJEja41VVW2yoVEjRUVFCAkJQb9+/eodk5OTg+rqatjZ2dW5Q6EnMjIyYG1tDVNT0wbHxcTEwNbWFrNmzQIArFq1Co6Ojjh37hyGDBnSHKGqhabmk/XZsKKiIuzduxc//PAD7OzsAACzZs3CpUuXau2AWZuNUySfrM2G6enpQU9PTza9YcMGCIKAxYsX1xqrqtpkQ6NGvv76a7z77rvIy8urd8ytW7fQtWtX/kE2IiMjA8OHD2903KVLl+Dg4CCbbtOmDfr27YuLFy9yp/GMpuaT9dmwpKQkGBgYYPDgwbJ5Pj4+dY5lbTZOkXyyNpuuqKgIGzduxIoVK6Cjo1Nruapqk9fQqInffvsNFy5cwPz58xscl5GRAW1tbcydOxeOjo6YNm0aLl++3ExRqgdBEJCVlYXTp09j7NixcHFxwTfffIOqqqpaY/Pz89GpUye5eR07dsQff/zRXOG2eIrkk/XZsOzsbHTv3h1xcXEYN24cRo8ejYiICEil0lpjWZuNUySfrM2mi4qKQqdOnTBu3Lg6l6uqNtnQqIHKykoEBgZi2bJlcof86pKVlYXi4mJMmTIFkZGRsLS0xPTp0/HgwYNmirblu3//PsrLy6Gjo4O1a9fCz88P8fHxCAkJqTX26bhn6ejo1Lmzbq0UySfrs2FlZWW4c+cOoqOjsWrVKvj5+WH79u3YsmVLrbGszcYpkk/WZtMIgoCYmBhMmzat3jGqqk2eclID4eHhsLW1lbsgqz7BwcGoqKiAgYEBACAoKAjJycn497//jXnz5r3sUNVC9+7dcfbsWRgbG0MkEqF3796QSqVYsmQJ/P39oampKRurq6tb64+wqqoKRkZGzR12i6VIPlmfDdPS0kJpaSlWr16N7t27A3jSMEZFRcmuR3iKtdk4RfLJ2myaK1euIDc3F25ubvWOUVVtsqFRAwkJCSgoKIBYLAYAWaEcOnQIKSkpcmO1tLRkf5AAIBKJ0LNnT+Tm5jZfwGqgXbt2ctOWlpaorKxEcXExOnToIJvfuXNnFBQUyI0tKChA7969myNMtdHUfLI+G2ZqagpdXV3ZzhcALCws6jxKwNpsnCL5ZG02zalTp+Dg4ABjY+N6x6iqNnnKSQ1s374d8fHxiIuLQ1xcHJydneHs7Iy4uLhaY729vREeHi6blkqlSEtLQ8+ePZsx4pbt1KlTGDJkCMrLy2Xzrl+/jnbt2sntfAHA3t4eSUlJsuny8nKkpqbC3t6+2eJt6RTJJ+uzYfb29qisrERWVpZsXmZmptwO+dmxrM2GKZJP1mbTXL58GQMGDGhwjKpqkw2NGujevTvMzc1lP/r6+tDX14e5uTkkEgny8/NlR22cnZ2xZcsWHDt2DJmZmVi+fDlKSkrqfW5NayQWi6Grq4uAgABkZmbi5MmTCAkJwZw5c2rlc9KkSUhOTkZkZCTS09Ph7+8PMzMz3kXyDEXyyfpsWM+ePTFy5Ej4+/vjxo0bOHXqFCIjI+Hp6cnafA6K5JO12TTp6emwsrKSm9dialMgtePn5yf4+fkJgiAI2dnZgrW1tfD7778LgiAIUqlUWL9+vTBy5EjB1tZW8PLyEtLS0lQZbot08+ZNYcaMGUL//v0FR0dHISwsTJBKpbXyKQiCcOLECWHMmDGCnZ2dMH36dOHu3bsqjLxlamo+WZ+Ne/TokbBkyRKhf//+wrBhw1ibL6ip+WRtNk2/fv2EX375RW5eS6lNkSDU8wxoIiIiIjXBU05ERESk9tjQEBERkdpjQ0NERERqjw0NERERqT02NERERKT22NAQERGR2mNDQ0RERGqPDQ0RERGpPTY0RNQscnJyYGNjg5ycHIWWKVtpaance9CcnZ0RGxur0DrS09Ph7e2t1LgKCwsxceJEVFZWKnW9RK0FGxoialW2bNmCvXv3vtA6li9fjg8//FBJET3Rvn17jBo1CpGRkUpdL1FrwYaGiFqVF33by/nz55Gfn4+hQ4cqKaL/8vT0xLZt21BWVqb0dRO96tjQELVC27Ztw6hRo9CvXz+4u7vjwoULsmU3b96Et7c37OzsMHbsWOzcuVO2LCwsDIsWLYK/vz/s7e0xduxYHDt2TLY8NzcXvr6+GDRoEGxtbTFx4kQkJSUpHN+jR4+wZMkSDBgwACNGjEBwcDAqKioAAGfPnoWzszN+/PFHODk5oX///liyZInsTb8AsG/fPri4uMDe3h6ffvopPvnkE4SFhSE2Nhbh4eE4d+4cbGxsZOPT09Ph4eGBfv36YcKECbh+/Xq9sUVFRcHFxUVu3g8//ABnZ2eIxWLMnj0b2dnZAABvb29s3rwZM2fOhJ2dHSZPnow7d+7gyy+/hFgsxpgxY3Du3DnZekxNTdGjRw/Ex8crnDOi1o4NDVErk5qaipCQEAQGBuLAgQNwcHDAwoULIZVKUVFRgQ8++AADBw7Evn374Ofnh3Xr1sldc3LkyBEIgoDY2FhMmjQJvr6+uHXrFgBg8eLFkEgkiI6ORlxcHDp37oygoCCFY1y6dClKSkoQFRWFdevW4cqVK1i+fLlseV5eHg4dOoRNmzYhLCwMhw8flsV44cIFfPHFF5gzZw5iY2PRpk0bJCYmAgBcXV0xa9YsiMVinD59Wra+PXv2YM6cOdi3bx+MjY0RGBhYZ1yCIODMmTNwdHSUzYuOjkZ4eDgWL16Mn376Cfr6+vj4449lyyMiIjB16lTExsaipKQEkydPhomJCfbs2YNevXphxYoVctsYPnw4Tp06pXDOiFo7NjRErcy9e/cgEonQrVs3mJmZYeHChQgNDYVUKkV8fDw6duyIhQsXokePHnB2dsa8efOwbds22eeNjY2xfPlyWFpawsfHB2KxGHv37oUgCHBxccGXX34JS0tLWFlZwcvLS9bsNNXdu3dx9OhRhIaGwsbGBnZ2dggODsZPP/2EkpISAEB1dTUCAgJgY2MDJycnODk54cqVKwCeHEFxdXWFh4cHLC0tERQUhC5dugAA9PT00LZtW2hra8PU1FS2TU9PT7i4uMDCwgLe3t64ceNGnbHl5OSgqKgIPXv2lM3btWsXZsyYAVdXV/To0QPLli3DkCFDZEeURo0ahfHjx8PKygouLi4wMDCAr68vLC0tMXXqVGRmZsptw8rKCqmpqQrljIgALVUHQETNa8SIEbC2tsbf/vY39OnTB6NHj8aUKVOgpaWFzMxM3LhxA2KxWDZeIpFAU1NTNm1rawsdHR256YyMDIhEInh6eiIxMRHJycnIysrC1atXIZVKFYovIyMDUqkUb775ptx8qVSKO3fuyKbNzc1lvxsYGKCmpgYAkJaWhvfee0+2TEtLC7a2tg1u87XXXpP9bmhoWO+dRoWFhQCeXMD7VFZWFvr27SubNjExgZ+fn2zazMxM9ruenh66desGkUgkm66urpbbRrt27fDw4cMG4yWi2tjQELUybdq0QUxMDM6dO4fjx48jNjYWUVFRiI2NRU1NDYYNG4Zly5bV+3ktLfn/bEgkEmhoaEAqlWLWrFl49OgRXF1d4ezsjOrqanz00UcKxSeRSGBoaFjnnUidO3fGpUuXAECuqQL+e7GvpqZmrQt/G7sQ+NmGrSmebdL+mo+/+utyDY2GD4xLpdJGxxBRbfyrIWplUlJSsGHDBgwdOhT+/v44ePAgKisrkZSUBAsLC2RlZcHMzAzm5uYwNzfHxYsXsX37dtnn09LS5HboV69ehY2NDW7duoXz589jy5YtmDdvHkaOHIm8vDwAit1ZZGFhgZKSEohEIlkMFRUVCAkJkbvwtz5WVla4du2abFoikchd5Pv06MjzMDExAQAUFRXJ5pmbm8udoiosLMTQoUOf+5k6hYWFsu0QUdOxoSFqZfT09BAREYGYmBjk5OQgISEBZWVlsLGxwTvvvIOKigosW7YMGRkZOHnyJFauXImOHTvKPp+dnY3Q0FBkZmZi/fr1uHbtGiZPngwjIyNoaGggISEB9+7dw8GDBxEWFgYATWpEnrK0tISTkxMWL16My5cv49q1a/D390dZWRmMjIwa/fy0adOQkJCAmJgYZGZm4h//+IfsuiHgyRGqvLy852o4unbtivbt2yMtLU02z9vbG1u3bsXRo0eRlZWFwMBAmJmZyZ1qUkRaWhr69OnzXJ8las3Y0BC1Mr1798bKlSuxadMmjB8/Ht9//z1CQ0NhaWkJAwMDbNy4Ebdv38aECRMQEBAALy8vzJ07V/Z5e3t7/Pnnn5gwYQIOHDiAyMhIvPbaa+jSpQuCgoKwceNGvP3224iMjERAQAC0tLQUvsg1JCQEZmZmmDFjBmbOnAkLCwusWbOmSZ8Vi8UIDAxEREQEJk6ciNLSUojFYmhrawMA3nrrLUilUri5uSl8rYpIJIKjo6PcrejvvvsuZs2aha+++gru7u6orKzEv/71L4XW+6zk5ORa1w8RUeNEwos+ZYqIWo2wsDCcO3dO7hRUS3P58mUYGBjI3Ynk5uaG2bNnw93d/YXXf/bsWSxduhRHjx594XX9VU5ODtzd3XH8+HHo6+srff1ErzIeoSGiV0pKSgrmzp2L5ORkZGdn4/vvv8eDBw/g5OSklPUPGTIEJiYmOHPmjFLW96zdu3fD09OTzQzRc+BdTkT0SvHy8kJOTg4WLFiAkpIS9O7dGxs3bpR77syLCgoKwooVK+QesPeiCgsLceLECezatUtp6yRqTXjKiYiIiNQeTzkRERGR2mNDQ0RERGqPDQ0RERGpPTY0REREpPbY0BAREZHaY0NDREREao8NDREREak9NjRERESk9v4fwJpipRj/DEkAAAAASUVORK5CYII=\n"
     },
     "metadata": {},
>>>>>>> 6cbfe2b561c8c1c6684398822a29b2e29cb5ca79
     "output_type": "display_data"
    }
   ],
   "source": [
    "g =sn.scatterplot(x=\"sepal length (cm)\",y=\"sepal width (cm)\",\n",
    "              hue=\"target\",\n",
    "              data=df_iris,palette=['green','red']);\n",
    "\n",
    "x1 = (-weights[0] - weights[2] * df_iris.iloc[0,1])/weights[1]\n",
    "x2 = (-weights[0] - weights[2] * df_iris.iloc[4,1])/weights[1]\n",
    "\n",
    "plt.axline((x1, df_iris.iloc[0,1]), (x2, df_iris.iloc[4,1]), color = \"green\")\n"
<<<<<<< HEAD
   ]
=======
   ],
   "metadata": {
    "collapsed": false,
    "pycharm": {
     "name": "#%%\n"
    }
   }
>>>>>>> 6cbfe2b561c8c1c6684398822a29b2e29cb5ca79
  },
  {
   "cell_type": "code",
   "execution_count": null,
   "metadata": {
    "collapsed": false,
    "pycharm": {
     "name": "#%%\n"
    }
   },
   "outputs": [],
   "source": []
  }
 ],
 "metadata": {
  "kernelspec": {
   "display_name": "Python 3.10.6 64-bit",
   "language": "python",
   "name": "python3"
  },
  "language_info": {
   "codemirror_mode": {
    "name": "ipython",
    "version": 3
   },
   "file_extension": ".py",
   "mimetype": "text/x-python",
   "name": "python",
   "nbconvert_exporter": "python",
   "pygments_lexer": "ipython3",
   "version": "3.10.6"
  },
  "vscode": {
   "interpreter": {
    "hash": "9e7b1a63dd4a5fed82b05d1c23e60bf779a820f67d093adce7ae0499ed1bd23e"
   }
  }
 },
 "nbformat": 4,
 "nbformat_minor": 0
}
